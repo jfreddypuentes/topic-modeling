{
 "cells": [
  {
   "cell_type": "markdown",
   "metadata": {},
   "source": [
    "<img src='https://encrypted-tbn0.gstatic.com/images?q=tbn%3AANd9GcQ-VfNtOyJbsaxu43Kztf_cv1mgBG6ZIQZEVw&usqp=CAU'>\n",
    "\n",
    "# Procesamiento de Lenguage Natural\n",
    "\n",
    "## Taller #8: Modelado de temas\n",
    "`Fecha de entrega: 🎃Octubre 31, 2020. (Antes del inicio de la próxima clase).`\n",
    "\n",
    "`Modo de entrega: Subir link de GitHub al aula virtual.`"
   ]
  },
  {
   "cell_type": "code",
   "execution_count": 30,
   "metadata": {},
   "outputs": [],
   "source": [
    "import re\n",
    "import pandas as pd \n",
    "from pprint import pprint\n",
    "\n",
    "from nltk.corpus import stopwords\n",
    "stopwords = stopwords.words('spanish')\n",
    "\n",
    "import pyLDAvis.gensim\n",
    "from gensim.models import LdaModel\n",
    "from gensim.corpora import Dictionary\n",
    "\n",
    "import warnings\n",
    "warnings.filterwarnings(\"ignore\", category=Warning);"
   ]
  },
  {
   "cell_type": "code",
   "execution_count": 31,
   "metadata": {},
   "outputs": [
    {
     "data": {
      "text/html": [
       "<div>\n",
       "<style scoped>\n",
       "    .dataframe tbody tr th:only-of-type {\n",
       "        vertical-align: middle;\n",
       "    }\n",
       "\n",
       "    .dataframe tbody tr th {\n",
       "        vertical-align: top;\n",
       "    }\n",
       "\n",
       "    .dataframe thead th {\n",
       "        text-align: right;\n",
       "    }\n",
       "</style>\n",
       "<table border=\"1\" class=\"dataframe\">\n",
       "  <thead>\n",
       "    <tr style=\"text-align: right;\">\n",
       "      <th></th>\n",
       "      <th>review_id</th>\n",
       "      <th>product_id</th>\n",
       "      <th>reviewer_id</th>\n",
       "      <th>stars</th>\n",
       "      <th>review_body</th>\n",
       "      <th>review_title</th>\n",
       "      <th>language</th>\n",
       "      <th>product_category</th>\n",
       "    </tr>\n",
       "  </thead>\n",
       "  <tbody>\n",
       "    <tr>\n",
       "      <th>0</th>\n",
       "      <td>es_0825565</td>\n",
       "      <td>product_es_0370490</td>\n",
       "      <td>reviewer_es_0174781</td>\n",
       "      <td>3</td>\n",
       "      <td>Buen. Buena calidad, y buena presentación.</td>\n",
       "      <td>Contenta</td>\n",
       "      <td>es</td>\n",
       "      <td>jewelry</td>\n",
       "    </tr>\n",
       "    <tr>\n",
       "      <th>1</th>\n",
       "      <td>es_0227934</td>\n",
       "      <td>product_es_0354224</td>\n",
       "      <td>reviewer_es_0411613</td>\n",
       "      <td>3</td>\n",
       "      <td>Un producto a perfecto, para salir de casa con...</td>\n",
       "      <td>Versatilidad</td>\n",
       "      <td>es</td>\n",
       "      <td>video_games</td>\n",
       "    </tr>\n",
       "    <tr>\n",
       "      <th>2</th>\n",
       "      <td>es_0468601</td>\n",
       "      <td>product_es_0665460</td>\n",
       "      <td>reviewer_es_0348315</td>\n",
       "      <td>1</td>\n",
       "      <td>No funciona con Nintendo Switch. No hay forma ...</td>\n",
       "      <td>Decepción absoluta</td>\n",
       "      <td>es</td>\n",
       "      <td>video_games</td>\n",
       "    </tr>\n",
       "    <tr>\n",
       "      <th>3</th>\n",
       "      <td>es_0814494</td>\n",
       "      <td>product_es_0692692</td>\n",
       "      <td>reviewer_es_0951508</td>\n",
       "      <td>5</td>\n",
       "      <td>Recomendado, los utilizo para pc y no me dan n...</td>\n",
       "      <td>Auriculares Pecham ps4</td>\n",
       "      <td>es</td>\n",
       "      <td>video_games</td>\n",
       "    </tr>\n",
       "    <tr>\n",
       "      <th>4</th>\n",
       "      <td>es_0206329</td>\n",
       "      <td>product_es_0728826</td>\n",
       "      <td>reviewer_es_0493255</td>\n",
       "      <td>4</td>\n",
       "      <td>El cable funciona bien podria ser un poco mas ...</td>\n",
       "      <td>Perfecto</td>\n",
       "      <td>es</td>\n",
       "      <td>video_games</td>\n",
       "    </tr>\n",
       "  </tbody>\n",
       "</table>\n",
       "</div>"
      ],
      "text/plain": [
       "    review_id          product_id          reviewer_id  stars  \\\n",
       "0  es_0825565  product_es_0370490  reviewer_es_0174781      3   \n",
       "1  es_0227934  product_es_0354224  reviewer_es_0411613      3   \n",
       "2  es_0468601  product_es_0665460  reviewer_es_0348315      1   \n",
       "3  es_0814494  product_es_0692692  reviewer_es_0951508      5   \n",
       "4  es_0206329  product_es_0728826  reviewer_es_0493255      4   \n",
       "\n",
       "                                         review_body            review_title  \\\n",
       "0         Buen. Buena calidad, y buena presentación.                Contenta   \n",
       "1  Un producto a perfecto, para salir de casa con...            Versatilidad   \n",
       "2  No funciona con Nintendo Switch. No hay forma ...      Decepción absoluta   \n",
       "3  Recomendado, los utilizo para pc y no me dan n...  Auriculares Pecham ps4   \n",
       "4  El cable funciona bien podria ser un poco mas ...                Perfecto   \n",
       "\n",
       "  language product_category  \n",
       "0       es          jewelry  \n",
       "1       es      video_games  \n",
       "2       es      video_games  \n",
       "3       es      video_games  \n",
       "4       es      video_games  "
      ]
     },
     "execution_count": 31,
     "metadata": {},
     "output_type": "execute_result"
    }
   ],
   "source": [
    "# Cargar datos\n",
    "path = 'reviews_vidjew_es.csv'\n",
    "data = pd.read_csv(path)\n",
    "data.head()"
   ]
  },
  {
   "cell_type": "markdown",
   "metadata": {},
   "source": [
    "### ¿Cuántas observaciones hay?"
   ]
  },
  {
   "cell_type": "code",
   "execution_count": 32,
   "metadata": {},
   "outputs": [
    {
     "name": "stdout",
     "output_type": "stream",
     "text": [
      "Tenemos 1,000 observaciones.\n"
     ]
    }
   ],
   "source": [
    "print(f\"Tenemos {data.shape[0]:,d} observaciones.\")"
   ]
  },
  {
   "cell_type": "markdown",
   "metadata": {},
   "source": [
    "### ¿Cuales y cuántas categorías únicas de productos hay?"
   ]
  },
  {
   "cell_type": "code",
   "execution_count": 33,
   "metadata": {},
   "outputs": [
    {
     "data": {
      "text/plain": [
       "array(['jewelry', 'video_games'], dtype=object)"
      ]
     },
     "execution_count": 33,
     "metadata": {},
     "output_type": "execute_result"
    }
   ],
   "source": [
    "data[\"product_category\"].unique()"
   ]
  },
  {
   "cell_type": "markdown",
   "metadata": {},
   "source": [
    "###  `[12 pts]` Punto 1: Hacer pre-procesamiento del texto"
   ]
  },
  {
   "cell_type": "code",
   "execution_count": 34,
   "metadata": {},
   "outputs": [],
   "source": [
    "def pre_procesado(texto):\n",
    "    texto = texto.lower()\n",
    "    texto = re.sub(r\"[\\W\\d_]+\", \" \", texto)\n",
    "    texto = [palabra for palabra in texto.split() if palabra not in stopwords]\n",
    "    return texto"
   ]
  },
  {
   "cell_type": "code",
   "execution_count": 35,
   "metadata": {},
   "outputs": [
    {
     "data": {
      "text/html": [
       "<div>\n",
       "<style scoped>\n",
       "    .dataframe tbody tr th:only-of-type {\n",
       "        vertical-align: middle;\n",
       "    }\n",
       "\n",
       "    .dataframe tbody tr th {\n",
       "        vertical-align: top;\n",
       "    }\n",
       "\n",
       "    .dataframe thead th {\n",
       "        text-align: right;\n",
       "    }\n",
       "</style>\n",
       "<table border=\"1\" class=\"dataframe\">\n",
       "  <thead>\n",
       "    <tr style=\"text-align: right;\">\n",
       "      <th></th>\n",
       "      <th>review_id</th>\n",
       "      <th>product_id</th>\n",
       "      <th>reviewer_id</th>\n",
       "      <th>stars</th>\n",
       "      <th>review_body</th>\n",
       "      <th>review_title</th>\n",
       "      <th>language</th>\n",
       "      <th>product_category</th>\n",
       "      <th>Pre-Processed</th>\n",
       "    </tr>\n",
       "  </thead>\n",
       "  <tbody>\n",
       "    <tr>\n",
       "      <th>0</th>\n",
       "      <td>es_0825565</td>\n",
       "      <td>product_es_0370490</td>\n",
       "      <td>reviewer_es_0174781</td>\n",
       "      <td>3</td>\n",
       "      <td>Buen. Buena calidad, y buena presentación.</td>\n",
       "      <td>Contenta</td>\n",
       "      <td>es</td>\n",
       "      <td>jewelry</td>\n",
       "      <td>[buen, buena, calidad, buena, presentación]</td>\n",
       "    </tr>\n",
       "    <tr>\n",
       "      <th>1</th>\n",
       "      <td>es_0227934</td>\n",
       "      <td>product_es_0354224</td>\n",
       "      <td>reviewer_es_0411613</td>\n",
       "      <td>3</td>\n",
       "      <td>Un producto a perfecto, para salir de casa con...</td>\n",
       "      <td>Versatilidad</td>\n",
       "      <td>es</td>\n",
       "      <td>video_games</td>\n",
       "      <td>[producto, perfecto, salir, casa, nintendo, sw...</td>\n",
       "    </tr>\n",
       "    <tr>\n",
       "      <th>2</th>\n",
       "      <td>es_0468601</td>\n",
       "      <td>product_es_0665460</td>\n",
       "      <td>reviewer_es_0348315</td>\n",
       "      <td>1</td>\n",
       "      <td>No funciona con Nintendo Switch. No hay forma ...</td>\n",
       "      <td>Decepción absoluta</td>\n",
       "      <td>es</td>\n",
       "      <td>video_games</td>\n",
       "      <td>[funciona, nintendo, switch, forma, emparejarl...</td>\n",
       "    </tr>\n",
       "    <tr>\n",
       "      <th>3</th>\n",
       "      <td>es_0814494</td>\n",
       "      <td>product_es_0692692</td>\n",
       "      <td>reviewer_es_0951508</td>\n",
       "      <td>5</td>\n",
       "      <td>Recomendado, los utilizo para pc y no me dan n...</td>\n",
       "      <td>Auriculares Pecham ps4</td>\n",
       "      <td>es</td>\n",
       "      <td>video_games</td>\n",
       "      <td>[recomendado, utilizo, pc, dan, ningún, proble...</td>\n",
       "    </tr>\n",
       "    <tr>\n",
       "      <th>4</th>\n",
       "      <td>es_0206329</td>\n",
       "      <td>product_es_0728826</td>\n",
       "      <td>reviewer_es_0493255</td>\n",
       "      <td>4</td>\n",
       "      <td>El cable funciona bien podria ser un poco mas ...</td>\n",
       "      <td>Perfecto</td>\n",
       "      <td>es</td>\n",
       "      <td>video_games</td>\n",
       "      <td>[cable, funciona, bien, podria, ser, mas, larg...</td>\n",
       "    </tr>\n",
       "  </tbody>\n",
       "</table>\n",
       "</div>"
      ],
      "text/plain": [
       "    review_id          product_id          reviewer_id  stars  \\\n",
       "0  es_0825565  product_es_0370490  reviewer_es_0174781      3   \n",
       "1  es_0227934  product_es_0354224  reviewer_es_0411613      3   \n",
       "2  es_0468601  product_es_0665460  reviewer_es_0348315      1   \n",
       "3  es_0814494  product_es_0692692  reviewer_es_0951508      5   \n",
       "4  es_0206329  product_es_0728826  reviewer_es_0493255      4   \n",
       "\n",
       "                                         review_body            review_title  \\\n",
       "0         Buen. Buena calidad, y buena presentación.                Contenta   \n",
       "1  Un producto a perfecto, para salir de casa con...            Versatilidad   \n",
       "2  No funciona con Nintendo Switch. No hay forma ...      Decepción absoluta   \n",
       "3  Recomendado, los utilizo para pc y no me dan n...  Auriculares Pecham ps4   \n",
       "4  El cable funciona bien podria ser un poco mas ...                Perfecto   \n",
       "\n",
       "  language product_category                                      Pre-Processed  \n",
       "0       es          jewelry        [buen, buena, calidad, buena, presentación]  \n",
       "1       es      video_games  [producto, perfecto, salir, casa, nintendo, sw...  \n",
       "2       es      video_games  [funciona, nintendo, switch, forma, emparejarl...  \n",
       "3       es      video_games  [recomendado, utilizo, pc, dan, ningún, proble...  \n",
       "4       es      video_games  [cable, funciona, bien, podria, ser, mas, larg...  "
      ]
     },
     "execution_count": 35,
     "metadata": {},
     "output_type": "execute_result"
    }
   ],
   "source": [
    "data['Pre-Processed'] = data['review_body'].apply(lambda texto: pre_procesado(texto))\n",
    "\n",
    "data.head()"
   ]
  },
  {
   "cell_type": "markdown",
   "metadata": {},
   "source": [
    "###  `[13 pts]` Punto 2: Modelo de LDA"
   ]
  },
  {
   "cell_type": "code",
   "execution_count": 36,
   "metadata": {},
   "outputs": [],
   "source": [
    "# Crear una representación de los documentos en forma de diccionario\n",
    "dictionary = Dictionary(data['Pre-Processed'].values)\n",
    "\n",
    "# Filtrar palabras muy frecuentes o infrecuentes\n",
    "dictionary.filter_extremes(no_below=5, no_above=0.5)\n",
    "\n",
    "corpus = [dictionary.doc2bow(text) for text in data['Pre-Processed'].values]"
   ]
  },
  {
   "cell_type": "code",
   "execution_count": 57,
   "metadata": {},
   "outputs": [
    {
     "name": "stdout",
     "output_type": "stream",
     "text": [
      "Entrenando modelo 1 para 2 temas con 100 pasos...\n",
      "Entrenando modelo 2 para 3 temas con 100 pasos...\n",
      "Entrenando modelo 3 para 4 temas con 100 pasos...\n",
      "Entrenando modelo 4 para 5 temas con 100 pasos...\n"
     ]
    }
   ],
   "source": [
    "#Train the topic model\n",
    "intial_num_topics = 2\n",
    "max_num_topics = 5\n",
    "_passes = 100\n",
    "models = []\n",
    "index = 1\n",
    "\n",
    "for _num_topics in range(intial_num_topics, max_num_topics + 1):\n",
    "    print(f'Entrenando modelo {index} para {_num_topics} temas con {_passes} pasos...')\n",
    "    _model = LdaModel(corpus=corpus, id2word=dictionary, num_topics=_num_topics, passes=_passes)\n",
    "    models.append(_model)\n",
    "    index += 1"
   ]
  },
  {
   "cell_type": "markdown",
   "metadata": {},
   "source": [
    "### Imprimir topics de cada modelo"
   ]
  },
  {
   "cell_type": "code",
   "execution_count": 58,
   "metadata": {},
   "outputs": [
    {
     "name": "stdout",
     "output_type": "stream",
     "text": [
      "Temas para modelo 1\n",
      "******************************************************************************************\n",
      "[(0, '0.031*\"bien\" + 0.024*\"calidad\" + 0.019*\"bonito\" + 0.015*\"llegado\" + 0.014*\"foto\" + 0.014*\"día\" + 0.011*\"bonitos\" + 0.011*\"producto\" + 0.011*\"pulsera\" + 0.011*\"regalo\"'), (1, '0.028*\"juego\" + 0.023*\"precio\" + 0.021*\"si\" + 0.019*\"bien\" + 0.016*\"producto\" + 0.015*\"buena\" + 0.015*\"calidad\" + 0.014*\"buen\" + 0.012*\"puede\" + 0.011*\"perfecto\"')]\n",
      "\n",
      "Temas para modelo 2\n",
      "******************************************************************************************\n",
      "[(0, '0.048*\"juego\" + 0.026*\"producto\" + 0.021*\"llegado\" + 0.019*\"caja\" + 0.018*\"día\" + 0.016*\"llegó\" + 0.014*\"amazon\" + 0.013*\"perfecto\" + 0.010*\"si\" + 0.010*\"ahora\"'), (1, '0.045*\"bien\" + 0.025*\"si\" + 0.021*\"mando\" + 0.016*\"calidad\" + 0.016*\"bonitos\" + 0.014*\"plata\" + 0.013*\"solo\" + 0.012*\"original\" + 0.011*\"buena\" + 0.011*\"pendientes\"'), (2, '0.038*\"calidad\" + 0.025*\"precio\" + 0.024*\"bien\" + 0.024*\"bonito\" + 0.015*\"foto\" + 0.014*\"puede\" + 0.014*\"pulsera\" + 0.012*\"llego\" + 0.012*\"regalo\" + 0.012*\"buena\"')]\n",
      "\n",
      "Temas para modelo 3\n",
      "******************************************************************************************\n",
      "[(0, '0.029*\"bonito\" + 0.027*\"bien\" + 0.023*\"calidad\" + 0.019*\"regalo\" + 0.018*\"foto\" + 0.017*\"pulsera\" + 0.016*\"plata\" + 0.016*\"tamaño\" + 0.015*\"parece\" + 0.015*\"cadena\"'), (1, '0.030*\"bien\" + 0.029*\"producto\" + 0.024*\"llegado\" + 0.021*\"perfecto\" + 0.019*\"día\" + 0.018*\"llegó\" + 0.017*\"juego\" + 0.016*\"amazon\" + 0.016*\"llego\" + 0.012*\"después\"'), (2, '0.041*\"calidad\" + 0.030*\"precio\" + 0.026*\"si\" + 0.025*\"mando\" + 0.021*\"juego\" + 0.021*\"buena\" + 0.017*\"mas\" + 0.017*\"bien\" + 0.017*\"puede\" + 0.015*\"perfectamente\"'), (3, '0.031*\"buen\" + 0.027*\"juego\" + 0.024*\"bien\" + 0.021*\"si\" + 0.019*\"producto\" + 0.018*\"bastante\" + 0.018*\"solo\" + 0.017*\"ps\" + 0.013*\"caja\" + 0.012*\"consola\"')]\n",
      "\n",
      "Temas para modelo 4\n",
      "******************************************************************************************\n",
      "[(0, '0.038*\"juego\" + 0.037*\"bien\" + 0.024*\"mando\" + 0.022*\"si\" + 0.018*\"producto\" + 0.017*\"así\" + 0.014*\"pena\" + 0.012*\"perfecto\" + 0.012*\"funciona\" + 0.011*\"mejor\"'), (1, '0.025*\"perfecto\" + 0.023*\"grandes\" + 0.023*\"puedo\" + 0.022*\"mal\" + 0.022*\"tamaño\" + 0.021*\"bonitos\" + 0.016*\"nunca\" + 0.016*\"llegó\" + 0.016*\"decir\" + 0.016*\"juego\"'), (2, '0.072*\"calidad\" + 0.055*\"precio\" + 0.024*\"buena\" + 0.023*\"puede\" + 0.023*\"bien\" + 0.016*\"si\" + 0.014*\"producto\" + 0.014*\"compré\" + 0.013*\"pulsera\" + 0.012*\"mala\"'), (3, '0.027*\"día\" + 0.027*\"regalo\" + 0.026*\"buen\" + 0.023*\"bien\" + 0.021*\"calidad\" + 0.019*\"llegado\" + 0.019*\"si\" + 0.019*\"juego\" + 0.018*\"buena\" + 0.017*\"caja\"'), (4, '0.039*\"bonito\" + 0.026*\"bien\" + 0.022*\"producto\" + 0.019*\"foto\" + 0.018*\"pendientes\" + 0.017*\"plata\" + 0.017*\"cadena\" + 0.015*\"tal\" + 0.015*\"colgante\" + 0.014*\"tiempo\"')]\n",
      "\n"
     ]
    }
   ],
   "source": [
    "topics_to_print = 5\n",
    "_index = 1\n",
    "for model in models:\n",
    "    print(f\"Temas para modelo {_index}\")\n",
    "    print(\"*\"*90)\n",
    "    print(model.print_topics(topics_to_print))\n",
    "    print()\n",
    "    _index += 1"
   ]
  },
  {
   "cell_type": "markdown",
   "metadata": {},
   "source": [
    "###  `[25 pts]` Punto 3: Visualización de LDA"
   ]
  },
  {
   "cell_type": "code",
   "execution_count": 59,
   "metadata": {},
   "outputs": [],
   "source": [
    "display_list = []\n",
    "for _model in models:\n",
    "    lda_display = pyLDAvis.gensim.prepare(_model, corpus, dictionary, sort_topics=True)\n",
    "    display_list.append(lda_display)"
   ]
  },
  {
   "cell_type": "code",
   "execution_count": 60,
   "metadata": {},
   "outputs": [
    {
     "data": {
      "text/plain": [
       "4"
      ]
     },
     "execution_count": 60,
     "metadata": {},
     "output_type": "execute_result"
    }
   ],
   "source": [
    "len(display_list)"
   ]
  },
  {
   "cell_type": "markdown",
   "metadata": {},
   "source": [
    "### Visuzaliación 1\n",
    "Si se evidencia que los grandes temas estan claramente separados y concuerdan con las dos categorias de productos => Video Juegos y Joyeria"
   ]
  },
  {
   "cell_type": "code",
   "execution_count": 61,
   "metadata": {},
   "outputs": [
    {
     "data": {
      "text/html": [
       "\n",
       "<link rel=\"stylesheet\" type=\"text/css\" href=\"https://cdn.rawgit.com/bmabey/pyLDAvis/files/ldavis.v1.0.0.css\">\n",
       "\n",
       "\n",
       "<div id=\"ldavis_el69755030803920320826714\"></div>\n",
       "<script type=\"text/javascript\">\n",
       "\n",
       "var ldavis_el69755030803920320826714_data = {\"mdsDat\": {\"x\": [0.144897848367691, -0.144897848367691], \"y\": [0.0, 0.0], \"topics\": [1, 2], \"cluster\": [1, 1], \"Freq\": [55.17515563964844, 44.82484817504883]}, \"tinfo\": {\"Category\": [\"Default\", \"Default\", \"Default\", \"Default\", \"Default\", \"Default\", \"Default\", \"Default\", \"Default\", \"Default\", \"Default\", \"Default\", \"Default\", \"Default\", \"Default\", \"Default\", \"Default\", \"Default\", \"Default\", \"Default\", \"Default\", \"Default\", \"Default\", \"Default\", \"Default\", \"Default\", \"Default\", \"Default\", \"Default\", \"Default\", \"Topic1\", \"Topic1\", \"Topic1\", \"Topic1\", \"Topic1\", \"Topic1\", \"Topic1\", \"Topic1\", \"Topic1\", \"Topic1\", \"Topic1\", \"Topic1\", \"Topic1\", \"Topic1\", \"Topic1\", \"Topic1\", \"Topic1\", \"Topic1\", \"Topic1\", \"Topic1\", \"Topic1\", \"Topic1\", \"Topic1\", \"Topic1\", \"Topic1\", \"Topic1\", \"Topic1\", \"Topic1\", \"Topic1\", \"Topic1\", \"Topic1\", \"Topic1\", \"Topic1\", \"Topic1\", \"Topic1\", \"Topic1\", \"Topic1\", \"Topic1\", \"Topic1\", \"Topic1\", \"Topic1\", \"Topic1\", \"Topic1\", \"Topic1\", \"Topic1\", \"Topic1\", \"Topic1\", \"Topic1\", \"Topic1\", \"Topic1\", \"Topic2\", \"Topic2\", \"Topic2\", \"Topic2\", \"Topic2\", \"Topic2\", \"Topic2\", \"Topic2\", \"Topic2\", \"Topic2\", \"Topic2\", \"Topic2\", \"Topic2\", \"Topic2\", \"Topic2\", \"Topic2\", \"Topic2\", \"Topic2\", \"Topic2\", \"Topic2\", \"Topic2\", \"Topic2\", \"Topic2\", \"Topic2\", \"Topic2\", \"Topic2\", \"Topic2\", \"Topic2\", \"Topic2\", \"Topic2\", \"Topic2\", \"Topic2\", \"Topic2\", \"Topic2\", \"Topic2\", \"Topic2\", \"Topic2\", \"Topic2\", \"Topic2\", \"Topic2\", \"Topic2\", \"Topic2\", \"Topic2\", \"Topic2\", \"Topic2\"], \"Freq\": [117.0, 63.0, 50.0, 48.0, 65.0, 60.0, 52.0, 39.0, 37.0, 35.0, 50.0, 34.0, 34.0, 32.0, 29.0, 42.0, 29.0, 29.0, 26.0, 25.0, 116.0, 26.0, 38.0, 33.0, 34.0, 24.0, 24.0, 24.0, 22.0, 21.0, 116.70606231689453, 60.21160125732422, 49.92437744140625, 33.27560806274414, 28.5817928314209, 64.52560424804688, 34.03231430053711, 23.898975372314453, 41.272518157958984, 21.967832565307617, 22.853483200073242, 24.666284561157227, 18.25689125061035, 20.073198318481445, 37.39446258544922, 17.32857894897461, 18.23882484436035, 30.980558395385742, 16.394880294799805, 20.027667999267578, 19.982332229614258, 19.945510864257812, 14.50517463684082, 17.213239669799805, 13.586880683898926, 15.395288467407227, 13.579092979431152, 26.173038482666016, 16.24221420288086, 16.23747444152832, 19.78996467590332, 16.22882652282715, 26.61956024169922, 43.20709228515625, 98.02346801757812, 86.93462371826172, 29.70977020263672, 43.49108123779297, 42.769344329833984, 45.05427932739258, 66.68930053710938, 30.04573631286621, 81.35066223144531, 62.859527587890625, 30.761962890625, 38.65019226074219, 26.72446632385254, 27.050880432128906, 24.16248321533203, 25.235366821289062, 63.18440246582031, 49.928436279296875, 38.8282356262207, 36.94379806518555, 34.152774810791016, 47.98480987548828, 34.130714416503906, 32.251220703125, 35.012203216552734, 25.688106536865234, 28.394304275512695, 24.7130184173584, 21.02009391784668, 21.930330276489258, 20.990964889526367, 20.046113967895508, 23.681137084960938, 20.909324645996094, 28.160232543945312, 23.581600189208984, 19.033384323120117, 15.404450416564941, 25.3248233795166, 15.364705085754395, 14.432051658630371, 13.530033111572266, 18.026277542114258, 13.518746376037598, 13.518404960632324, 23.380624771118164, 28.640453338623047, 48.81135559082031, 16.073169708251953, 26.97173309326172, 26.851112365722656, 27.89668846130371, 104.24555969238281, 81.49230194091797, 27.32073211669922, 36.6268424987793, 29.683353424072266, 38.32217788696289, 22.49330711364746, 26.040706634521484, 25.59886932373047], \"Term\": [\"juego\", \"bonito\", \"llegado\", \"d\\u00eda\", \"buena\", \"buen\", \"foto\", \"bonitos\", \"pulsera\", \"queda\", \"puede\", \"plata\", \"tama\\u00f1o\", \"cadena\", \"pendientes\", \"tiempo\", \"demasiado\", \"peque\\u00f1o\", \"bonita\", \"colgante\", \"precio\", \"vez\", \"viene\", \"jugar\", \"funciona\", \"grandes\", \"mala\", \"cierre\", \"quedan\", \"peque\\u00f1os\", \"juego\", \"buen\", \"puede\", \"jugar\", \"ps\", \"buena\", \"funciona\", \"cumple\", \"tiempo\", \"cable\", \"juegos\", \"comprar\", \"tener\", \"switch\", \"viene\", \"espa\\u00f1ol\", \"gran\", \"original\", \"nintendo\", \"pedir\", \"gusto\", \"r\\u00e1pido\", \"carga\", \"correcto\", \"versi\\u00f3n\", \"caso\", \"sonido\", \"compr\\u00e9\", \"ning\\u00fan\", \"muchas\", \"material\", \"siempre\", \"recomiendo\", \"caja\", \"precio\", \"si\", \"compra\", \"mando\", \"bastante\", \"perfecto\", \"producto\", \"perfectamente\", \"bien\", \"calidad\", \"aunque\", \"mas\", \"mejor\", \"solo\", \"amazon\", \"regalo\", \"bonito\", \"llegado\", \"bonitos\", \"pulsera\", \"plata\", \"d\\u00eda\", \"tama\\u00f1o\", \"cadena\", \"queda\", \"bonita\", \"pendientes\", \"colgante\", \"peque\\u00f1os\", \"quedan\", \"d\\u00edas\", \"nunca\", \"grandes\", \"color\", \"demasiado\", \"mala\", \"roto\", \"collar\", \"vez\", \"q\", \"fina\", \"mes\", \"pl\\u00e1stico\", \"ped\\u00ed\", \"encantado\", \"cierre\", \"peque\\u00f1o\", \"foto\", \"trae\", \"grande\", \"tal\", \"gustado\", \"bien\", \"calidad\", \"mal\", \"regalo\", \"parece\", \"producto\", \"sido\", \"mas\", \"si\"], \"Total\": [117.0, 63.0, 50.0, 48.0, 65.0, 60.0, 52.0, 39.0, 37.0, 35.0, 50.0, 34.0, 34.0, 32.0, 29.0, 42.0, 29.0, 29.0, 26.0, 25.0, 116.0, 26.0, 38.0, 33.0, 34.0, 24.0, 24.0, 24.0, 22.0, 21.0, 117.25830078125, 60.97319030761719, 50.65445327758789, 33.769535064697266, 29.07913589477539, 65.66307067871094, 34.70721435546875, 24.38876724243164, 42.21131134033203, 22.512460708618164, 23.450382232666016, 25.32637596130371, 18.76026153564453, 20.63627815246582, 38.45883560180664, 17.82221221923828, 18.760196685791016, 31.89262580871582, 16.8841552734375, 20.63612174987793, 20.636001586914062, 20.635923385620117, 15.007951736450195, 17.821863174438477, 14.069945335388184, 15.945894241333008, 14.069914817810059, 27.201892852783203, 16.88372230529785, 16.88374900817871, 20.635684967041016, 16.88375473022461, 28.139366149902344, 46.89796829223633, 116.2957763671875, 112.53349304199219, 33.76429748535156, 52.51914596557617, 53.45491027832031, 59.07881164550781, 105.011474609375, 37.51198959350586, 185.59622192382812, 144.35183715820312, 43.133750915527344, 64.69090270996094, 35.63385009765625, 45.93909454345703, 34.69356918334961, 61.86220932006836, 63.702491760253906, 50.58729553222656, 39.34569549560547, 37.47209167480469, 34.66171646118164, 48.713871002197266, 34.66169357299805, 32.78810501098633, 35.59846496582031, 26.230487823486328, 29.040916442871094, 25.293724060058594, 21.54649543762207, 22.483285903930664, 21.546485900878906, 20.609689712524414, 24.356904983520508, 21.546566009521484, 29.04112434387207, 24.356977462768555, 19.672910690307617, 15.925721168518066, 26.230728149414062, 15.925681114196777, 14.98888111114502, 14.052108764648438, 18.736148834228516, 14.052102088928223, 14.052087783813477, 24.357295989990234, 29.9785213470459, 52.46482849121094, 16.862586975097656, 29.980812072753906, 29.981000900268555, 32.79375457763672, 185.59622192382812, 144.35183715820312, 36.54681396484375, 61.86220932006836, 48.73860168457031, 105.011474609375, 27.172609329223633, 64.69090270996094, 112.53349304199219], \"loglift\": [30.0, 29.0, 28.0, 27.0, 26.0, 25.0, 24.0, 23.0, 22.0, 21.0, 20.0, 19.0, 18.0, 17.0, 16.0, 15.0, 14.0, 13.0, 12.0, 11.0, 10.0, 9.0, 8.0, 7.0, 6.0, 5.0, 4.0, 3.0, 2.0, 1.0, 0.589900016784668, 0.582099974155426, 0.5800999999046326, 0.5799000263214111, 0.5774000287055969, 0.5771999955177307, 0.574999988079071, 0.574400007724762, 0.5722000002861023, 0.5702000260353088, 0.5688999891281128, 0.5681999921798706, 0.5674999952316284, 0.5669999718666077, 0.5666000247001648, 0.5666000247001648, 0.5665000081062317, 0.5655999779701233, 0.5652999877929688, 0.5647000074386597, 0.5625, 0.5605999827384949, 0.5605999827384949, 0.5598999857902527, 0.5597000122070312, 0.559499979019165, 0.5590999722480774, 0.5561000108718872, 0.555899977684021, 0.5555999875068665, 0.5527999997138977, 0.5551000237464905, 0.5390999913215637, 0.5127000212669373, 0.4237000048160553, 0.33660000562667847, 0.4666999876499176, 0.4059999883174896, 0.3716000020503998, 0.3237000107765198, 0.14059999585151672, 0.3727000057697296, -0.23010000586509705, -0.23669999837875366, 0.2565999925136566, 0.07959999889135361, 0.3068999946117401, 0.06509999930858612, 0.2328999936580658, -0.3019999861717224, 0.7942000031471252, 0.7893000245094299, 0.7892000079154968, 0.7882000207901001, 0.7875999808311462, 0.7872999906539917, 0.7870000004768372, 0.7858999967575073, 0.7857999801635742, 0.781499981880188, 0.7799000144004822, 0.77920001745224, 0.7777000069618225, 0.7774999737739563, 0.7763000130653381, 0.7746999859809875, 0.7742999792098999, 0.7724000215530396, 0.7716000080108643, 0.7700999975204468, 0.7694000005722046, 0.76910001039505, 0.767300009727478, 0.7664999961853027, 0.7645999789237976, 0.7645000219345093, 0.7638000249862671, 0.763700008392334, 0.763700008392334, 0.7615000009536743, 0.7566999793052673, 0.7301999926567078, 0.7544999718666077, 0.6966000199317932, 0.6922000050544739, 0.6406999826431274, 0.225600004196167, 0.23070000112056732, 0.5115000009536743, 0.2782999873161316, 0.30649998784065247, -0.20559999346733093, 0.6133999824523926, -0.10760000348091125, -0.6783000230789185], \"logprob\": [30.0, 29.0, 28.0, 27.0, 26.0, 25.0, 24.0, 23.0, 22.0, 21.0, 20.0, 19.0, 18.0, 17.0, 16.0, 15.0, 14.0, 13.0, 12.0, 11.0, 10.0, 9.0, 8.0, 7.0, 6.0, 5.0, 4.0, 3.0, 2.0, 1.0, -3.577500104904175, -4.239299774169922, -4.426599979400635, -4.832300186157227, -4.984399795532227, -4.170100212097168, -4.809800148010254, -5.163300037384033, -4.617000102996826, -5.247600078582764, -5.208099842071533, -5.131700038909912, -5.432600021362305, -5.337800025939941, -4.71560001373291, -5.484799861907959, -5.433599948883057, -4.903800010681152, -5.540200233459473, -5.340000152587891, -5.342299938201904, -5.344200134277344, -5.662700176239014, -5.491499900817871, -5.728099822998047, -5.603099822998047, -5.728600025177002, -5.072400093078613, -5.549499988555908, -5.549799919128418, -5.3520002365112305, -5.5503997802734375, -5.055500030517578, -4.571199893951416, -3.752000093460083, -3.871999979019165, -4.945700168609619, -4.564599990844727, -4.581299781799316, -4.529300212860107, -4.1371002197265625, -4.9344000816345215, -3.9384000301361084, -4.196300029754639, -4.910900115966797, -4.682600021362305, -5.051599979400635, -5.039400100708008, -5.152400016784668, -5.10890007019043, -3.9834001064300537, -4.218800067901611, -4.470300197601318, -4.519999980926514, -4.598599910736084, -4.258500099182129, -4.5991997718811035, -4.655900001525879, -4.573699951171875, -4.883399963378906, -4.783199787139893, -4.922100067138672, -5.083899974822998, -5.041500091552734, -5.085299968719482, -5.131400108337402, -4.964700222015381, -5.089200019836426, -4.791500091552734, -4.968900203704834, -5.183199882507324, -5.394800186157227, -4.897600173950195, -5.397299766540527, -5.460000038146973, -5.524499893188477, -5.237599849700928, -5.525300025939941, -5.525400161743164, -4.977499961853027, -4.774600028991699, -4.241399765014648, -5.35230016708374, -4.83459997177124, -4.839099884033203, -4.800899982452393, -3.4827001094818115, -3.7288999557495117, -4.821800231933594, -4.528600215911865, -4.738800048828125, -4.483399868011475, -5.016200065612793, -4.869699954986572, -4.886899948120117]}, \"token.table\": {\"Topic\": [1, 2, 1, 2, 1, 2, 1, 2, 1, 2, 1, 2, 1, 2, 1, 2, 1, 2, 1, 2, 1, 2, 1, 2, 1, 2, 1, 2, 1, 2, 1, 2, 1, 2, 1, 2, 1, 2, 1, 2, 1, 2, 1, 2, 1, 2, 1, 1, 2, 1, 2, 1, 2, 1, 2, 1, 1, 2, 1, 2, 1, 2, 1, 2, 1, 2, 1, 2, 1, 2, 1, 2, 1, 2, 1, 2, 1, 1, 2, 1, 2, 1, 2, 1, 2, 1, 2, 1, 2, 1, 2, 1, 2, 1, 2, 1, 2, 1, 1, 2, 1, 2, 1, 2, 1, 2, 1, 2, 1, 2, 1, 2, 1, 2, 1, 2, 1, 2, 1, 2, 1, 2, 1, 2, 1, 2, 1, 1, 2, 1, 2, 1, 2, 1, 2, 1, 2, 1, 2, 1, 2, 1, 2, 1, 2, 1, 2, 1, 2, 1, 2, 1, 2, 1, 1, 2, 1, 2, 1, 2, 1, 2, 1, 2, 1, 2, 1, 1, 2, 1, 2], \"Freq\": [0.6917708516120911, 0.3170616328716278, 0.7186947464942932, 0.27820441126823425, 0.804416298866272, 0.20578090846538544, 0.43643128871917725, 0.5603562593460083, 0.03812357783317566, 0.9912129640579224, 0.01569797284901142, 0.9889723062515259, 0.02541574090719223, 0.9912139177322388, 0.9840390682220459, 0.016400650143623352, 0.9899019002914429, 0.015229260548949242, 0.9772365689277649, 0.04441984370350838, 0.030498865991830826, 0.9759637117385864, 0.9168840646743774, 0.0852915421128273, 0.4364336431026459, 0.5611289739608765, 0.9994701743125916, 0.06663134694099426, 0.9406810402870178, 0.06271206587553024, 0.04105545952916145, 0.9442756175994873, 0.03953550010919571, 0.9883874654769897, 0.06279150396585464, 0.9418725967407227, 0.04641110822558403, 0.9746332764625549, 0.8885124921798706, 0.11846832931041718, 0.9871131777763367, 0.039484526962041855, 0.955815851688385, 0.03676214814186096, 0.9538845419883728, 0.05611085519194603, 0.9840595722198486, 0.03443392738699913, 0.9641500115394592, 0.02052803337574005, 0.9853456020355225, 0.04641127958893776, 0.9746369123458862, 0.07116380333900452, 0.9962932467460632, 0.9538658857345581, 0.06671611964702606, 0.9340257048606873, 0.07624155282974243, 0.9339590072631836, 0.9796234369277954, 0.028812453150749207, 0.9594781994819641, 0.05330434441566467, 0.1000640019774437, 0.9005759954452515, 0.04105611890554428, 0.9853468537330627, 0.15246805548667908, 0.8538210988044739, 0.9691799879074097, 0.0484590008854866, 0.9977971911430359, 0.008528181351721287, 0.9807942509651184, 0.0426432266831398, 0.977212131023407, 0.01976780965924263, 0.9883904457092285, 0.24625949561595917, 0.7387784719467163, 0.04105599597096443, 0.9853439331054688, 0.8187490105628967, 0.17136608064174652, 0.6028668284416199, 0.4019112288951874, 0.9691948890686035, 0.048459742218256, 0.7577065229415894, 0.2525688409805298, 0.07116369903087616, 0.9962917566299438, 0.9476568102836609, 0.059228550642728806, 0.9476583003997803, 0.05922864377498627, 0.9476340413093567, 0.04852086678147316, 0.970417320728302, 0.9720115065574646, 0.03135520964860916, 0.3898347318172455, 0.6155285239219666, 0.9691743850708008, 0.04845871776342392, 0.07116372883319855, 0.996292233467102, 0.03443417325615883, 0.9641569256782532, 0.03335721418261528, 0.9673592448234558, 0.04641126096248627, 0.974636435508728, 0.7997443079948425, 0.1866070032119751, 0.7616943717002869, 0.23697158694267273, 0.02885027416050434, 0.9809092879295349, 0.053372763097286224, 0.9607096910476685, 0.8426789045333862, 0.15477776527404785, 0.6380255222320557, 0.36186522245407104, 0.99727863073349, 0.9870800375938416, 0.0197416003793478, 0.026686526834964752, 0.9874014854431152, 0.06279166042804718, 0.9418749213218689, 0.028091099113225937, 0.9831884503364563, 0.04447748512029648, 0.9785046577453613, 0.9595099091529846, 0.07107480615377426, 0.4041239321231842, 0.5981034636497498, 0.05083131790161133, 0.9657950401306152, 0.9691836833953857, 0.04845918342471123, 0.7731031775474548, 0.23104232549667358, 0.18400882184505463, 0.8096388578414917, 0.947656512260437, 0.05922853201627731, 0.5877346992492676, 0.41359108686447144, 0.9950308799743652, 0.9691669940948486, 0.04845834895968437, 0.10006336867809296, 0.9005703330039978, 0.028850292786955833, 0.9809099435806274, 0.9594749212265015, 0.05330416187644005, 0.9713036417961121, 0.02369033172726631, 0.059302881360054016, 0.9488461017608643, 0.9950287342071533, 0.038123227655887604, 0.9530806541442871, 0.9620676040649414, 0.0260018277913332], \"Term\": [\"amazon\", \"amazon\", \"aunque\", \"aunque\", \"bastante\", \"bastante\", \"bien\", \"bien\", \"bonita\", \"bonita\", \"bonito\", \"bonito\", \"bonitos\", \"bonitos\", \"buen\", \"buen\", \"buena\", \"buena\", \"cable\", \"cable\", \"cadena\", \"cadena\", \"caja\", \"caja\", \"calidad\", \"calidad\", \"carga\", \"carga\", \"caso\", \"caso\", \"cierre\", \"cierre\", \"colgante\", \"colgante\", \"collar\", \"collar\", \"color\", \"color\", \"compra\", \"compra\", \"comprar\", \"comprar\", \"compr\\u00e9\", \"compr\\u00e9\", \"correcto\", \"correcto\", \"cumple\", \"demasiado\", \"demasiado\", \"d\\u00eda\", \"d\\u00eda\", \"d\\u00edas\", \"d\\u00edas\", \"encantado\", \"encantado\", \"espa\\u00f1ol\", \"fina\", \"fina\", \"foto\", \"foto\", \"funciona\", \"funciona\", \"gran\", \"gran\", \"grande\", \"grande\", \"grandes\", \"grandes\", \"gustado\", \"gustado\", \"gusto\", \"gusto\", \"juego\", \"juego\", \"juegos\", \"juegos\", \"jugar\", \"llegado\", \"llegado\", \"mal\", \"mal\", \"mala\", \"mala\", \"mando\", \"mando\", \"mas\", \"mas\", \"material\", \"material\", \"mejor\", \"mejor\", \"mes\", \"mes\", \"muchas\", \"muchas\", \"ning\\u00fan\", \"ning\\u00fan\", \"nintendo\", \"nunca\", \"nunca\", \"original\", \"original\", \"parece\", \"parece\", \"pedir\", \"pedir\", \"ped\\u00ed\", \"ped\\u00ed\", \"pendientes\", \"pendientes\", \"peque\\u00f1o\", \"peque\\u00f1o\", \"peque\\u00f1os\", \"peque\\u00f1os\", \"perfectamente\", \"perfectamente\", \"perfecto\", \"perfecto\", \"plata\", \"plata\", \"pl\\u00e1stico\", \"pl\\u00e1stico\", \"precio\", \"precio\", \"producto\", \"producto\", \"ps\", \"puede\", \"puede\", \"pulsera\", \"pulsera\", \"q\", \"q\", \"queda\", \"queda\", \"quedan\", \"quedan\", \"recomiendo\", \"recomiendo\", \"regalo\", \"regalo\", \"roto\", \"roto\", \"r\\u00e1pido\", \"r\\u00e1pido\", \"si\", \"si\", \"sido\", \"sido\", \"siempre\", \"siempre\", \"solo\", \"solo\", \"sonido\", \"switch\", \"switch\", \"tal\", \"tal\", \"tama\\u00f1o\", \"tama\\u00f1o\", \"tener\", \"tener\", \"tiempo\", \"tiempo\", \"trae\", \"trae\", \"versi\\u00f3n\", \"vez\", \"vez\", \"viene\", \"viene\"]}, \"R\": 30, \"lambda.step\": 0.01, \"plot.opts\": {\"xlab\": \"PC1\", \"ylab\": \"PC2\"}, \"topic.order\": [2, 1]};\n",
       "\n",
       "function LDAvis_load_lib(url, callback){\n",
       "  var s = document.createElement('script');\n",
       "  s.src = url;\n",
       "  s.async = true;\n",
       "  s.onreadystatechange = s.onload = callback;\n",
       "  s.onerror = function(){console.warn(\"failed to load library \" + url);};\n",
       "  document.getElementsByTagName(\"head\")[0].appendChild(s);\n",
       "}\n",
       "\n",
       "if(typeof(LDAvis) !== \"undefined\"){\n",
       "   // already loaded: just create the visualization\n",
       "   !function(LDAvis){\n",
       "       new LDAvis(\"#\" + \"ldavis_el69755030803920320826714\", ldavis_el69755030803920320826714_data);\n",
       "   }(LDAvis);\n",
       "}else if(typeof define === \"function\" && define.amd){\n",
       "   // require.js is available: use it to load d3/LDAvis\n",
       "   require.config({paths: {d3: \"https://cdnjs.cloudflare.com/ajax/libs/d3/3.5.5/d3.min\"}});\n",
       "   require([\"d3\"], function(d3){\n",
       "      window.d3 = d3;\n",
       "      LDAvis_load_lib(\"https://cdn.rawgit.com/bmabey/pyLDAvis/files/ldavis.v1.0.0.js\", function(){\n",
       "        new LDAvis(\"#\" + \"ldavis_el69755030803920320826714\", ldavis_el69755030803920320826714_data);\n",
       "      });\n",
       "    });\n",
       "}else{\n",
       "    // require.js not available: dynamically load d3 & LDAvis\n",
       "    LDAvis_load_lib(\"https://cdnjs.cloudflare.com/ajax/libs/d3/3.5.5/d3.min.js\", function(){\n",
       "         LDAvis_load_lib(\"https://cdn.rawgit.com/bmabey/pyLDAvis/files/ldavis.v1.0.0.js\", function(){\n",
       "                 new LDAvis(\"#\" + \"ldavis_el69755030803920320826714\", ldavis_el69755030803920320826714_data);\n",
       "            })\n",
       "         });\n",
       "}\n",
       "</script>"
      ],
      "text/plain": [
       "<IPython.core.display.HTML object>"
      ]
     },
     "execution_count": 61,
     "metadata": {},
     "output_type": "execute_result"
    }
   ],
   "source": [
    "pyLDAvis.display(display_list[0])"
   ]
  },
  {
   "cell_type": "markdown",
   "metadata": {},
   "source": [
    "### Visualización 2"
   ]
  },
  {
   "cell_type": "code",
   "execution_count": 62,
   "metadata": {},
   "outputs": [
    {
     "data": {
      "text/html": [
       "\n",
       "<link rel=\"stylesheet\" type=\"text/css\" href=\"https://cdn.rawgit.com/bmabey/pyLDAvis/files/ldavis.v1.0.0.css\">\n",
       "\n",
       "\n",
       "<div id=\"ldavis_el697550351583529650866336\"></div>\n",
       "<script type=\"text/javascript\">\n",
       "\n",
       "var ldavis_el697550351583529650866336_data = {\"mdsDat\": {\"x\": [-0.07599836875534126, -0.13183375174886375, 0.20783212050420502], \"y\": [0.1528075327170317, -0.1276885325155812, -0.025119000201450494], \"topics\": [1, 2, 3], \"cluster\": [1, 1, 1], \"Freq\": [35.18993377685547, 32.927574157714844, 31.88248634338379]}, \"tinfo\": {\"Category\": [\"Default\", \"Default\", \"Default\", \"Default\", \"Default\", \"Default\", \"Default\", \"Default\", \"Default\", \"Default\", \"Default\", \"Default\", \"Default\", \"Default\", \"Default\", \"Default\", \"Default\", \"Default\", \"Default\", \"Default\", \"Default\", \"Default\", \"Default\", \"Default\", \"Default\", \"Default\", \"Default\", \"Default\", \"Default\", \"Default\", \"Topic1\", \"Topic1\", \"Topic1\", \"Topic1\", \"Topic1\", \"Topic1\", \"Topic1\", \"Topic1\", \"Topic1\", \"Topic1\", \"Topic1\", \"Topic1\", \"Topic1\", \"Topic1\", \"Topic1\", \"Topic1\", \"Topic1\", \"Topic1\", \"Topic1\", \"Topic1\", \"Topic1\", \"Topic1\", \"Topic1\", \"Topic1\", \"Topic1\", \"Topic1\", \"Topic1\", \"Topic1\", \"Topic1\", \"Topic1\", \"Topic1\", \"Topic1\", \"Topic1\", \"Topic1\", \"Topic1\", \"Topic1\", \"Topic1\", \"Topic1\", \"Topic1\", \"Topic1\", \"Topic1\", \"Topic1\", \"Topic1\", \"Topic1\", \"Topic1\", \"Topic1\", \"Topic1\", \"Topic1\", \"Topic1\", \"Topic1\", \"Topic1\", \"Topic1\", \"Topic1\", \"Topic1\", \"Topic2\", \"Topic2\", \"Topic2\", \"Topic2\", \"Topic2\", \"Topic2\", \"Topic2\", \"Topic2\", \"Topic2\", \"Topic2\", \"Topic2\", \"Topic2\", \"Topic2\", \"Topic2\", \"Topic2\", \"Topic2\", \"Topic2\", \"Topic2\", \"Topic2\", \"Topic2\", \"Topic2\", \"Topic2\", \"Topic2\", \"Topic2\", \"Topic2\", \"Topic2\", \"Topic2\", \"Topic2\", \"Topic2\", \"Topic2\", \"Topic2\", \"Topic2\", \"Topic2\", \"Topic2\", \"Topic2\", \"Topic2\", \"Topic2\", \"Topic2\", \"Topic2\", \"Topic2\", \"Topic2\", \"Topic2\", \"Topic2\", \"Topic2\", \"Topic2\", \"Topic2\", \"Topic2\", \"Topic2\", \"Topic2\", \"Topic3\", \"Topic3\", \"Topic3\", \"Topic3\", \"Topic3\", \"Topic3\", \"Topic3\", \"Topic3\", \"Topic3\", \"Topic3\", \"Topic3\", \"Topic3\", \"Topic3\", \"Topic3\", \"Topic3\", \"Topic3\", \"Topic3\", \"Topic3\", \"Topic3\", \"Topic3\", \"Topic3\", \"Topic3\", \"Topic3\", \"Topic3\", \"Topic3\", \"Topic3\", \"Topic3\", \"Topic3\", \"Topic3\", \"Topic3\", \"Topic3\", \"Topic3\", \"Topic3\", \"Topic3\", \"Topic3\", \"Topic3\", \"Topic3\", \"Topic3\", \"Topic3\", \"Topic3\", \"Topic3\", \"Topic3\", \"Topic3\", \"Topic3\", \"Topic3\", \"Topic3\", \"Topic3\", \"Topic3\"], \"Freq\": [117.0, 63.0, 52.0, 50.0, 185.0, 144.0, 47.0, 39.0, 48.0, 34.0, 34.0, 37.0, 43.0, 33.0, 31.0, 29.0, 29.0, 25.0, 35.0, 24.0, 24.0, 26.0, 24.0, 23.0, 52.0, 29.0, 45.0, 25.0, 22.0, 24.0, 62.875762939453125, 32.9435920715332, 29.223331451416016, 29.20375633239746, 25.51803970336914, 36.430938720703125, 24.58222007751465, 23.628074645996094, 19.79075050354004, 21.57689666748047, 19.713930130004883, 14.304300308227539, 16.072847366333008, 13.34802532196045, 14.222038269042969, 11.497963905334473, 11.423553466796875, 10.47402572631836, 8.7183837890625, 8.697890281677246, 8.687443733215332, 8.647479057312012, 7.769725322723389, 7.725056171417236, 6.8111252784729, 6.806141376495361, 7.649718761444092, 6.791449069976807, 6.791242599487305, 32.21217346191406, 26.71830940246582, 8.421692848205566, 101.0322265625, 28.697416305541992, 38.11555862426758, 38.95307159423828, 30.60663414001465, 16.649425506591797, 17.8488826751709, 67.41781616210938, 11.987458229064941, 11.290938377380371, 22.613628387451172, 32.58518981933594, 29.35946273803711, 32.89580535888672, 65.01029205322266, 32.73983383178711, 21.9144229888916, 17.322797775268555, 24.69544792175293, 28.429107666015625, 26.238862991333008, 18.630203247070312, 51.831512451171875, 38.71860885620117, 33.98051071166992, 23.726299285888672, 23.703981399536133, 21.859214782714844, 30.897647857666016, 20.89945411682129, 19.97385025024414, 20.820846557617188, 18.980714797973633, 18.064577102661133, 16.230152130126953, 16.17615509033203, 15.247340202331543, 14.332521438598633, 15.22571849822998, 13.410661697387695, 13.401012420654297, 13.391746520996094, 11.546896934509277, 14.194235801696777, 11.532711029052734, 10.592496871948242, 10.57245922088623, 9.668670654296875, 9.623083114624023, 8.731612205505371, 8.731327056884766, 8.713363647460938, 26.783679962158203, 21.58224105834961, 111.20259857177734, 33.520965576171875, 16.691692352294922, 61.427406311035156, 25.18007469177246, 18.31168556213379, 22.314485549926758, 27.227516174316406, 38.74873352050781, 18.658031463623047, 20.56351089477539, 19.697343826293945, 24.482465744018555, 23.407318115234375, 26.47357749938965, 18.702713012695312, 20.202316284179688, 116.89141082763672, 34.14859390258789, 49.60325622558594, 23.79299545288086, 22.85640525817871, 24.66326141357422, 20.954700469970703, 20.94734001159668, 17.232587814331055, 17.19355583190918, 45.09156036376953, 14.418891906738281, 14.409687042236328, 14.407182693481445, 15.298981666564941, 13.454882621765137, 13.44688606262207, 11.569504737854004, 16.002412796020508, 10.639029502868652, 10.632283210754395, 10.629651069641113, 10.607039451599121, 9.711320877075195, 9.708246231079102, 9.703577041625977, 13.227413177490234, 9.69155502319336, 12.32491683959961, 10.546679496765137, 43.14707565307617, 37.51558303833008, 15.401016235351562, 23.307140350341797, 15.382950782775879, 16.69584846496582, 62.598350524902344, 16.008455276489258, 30.660606384277344, 16.985450744628906, 20.070302963256836, 16.85283851623535, 18.84391975402832, 17.745126724243164, 24.840673446655273, 22.220245361328125, 19.108753204345703, 15.485196113586426], \"Term\": [\"juego\", \"bonito\", \"mando\", \"llegado\", \"bien\", \"calidad\", \"caja\", \"bonitos\", \"d\\u00eda\", \"amazon\", \"plata\", \"pulsera\", \"lleg\\u00f3\", \"llego\", \"original\", \"peque\\u00f1o\", \"tal\", \"ahora\", \"queda\", \"pedido\", \"grandes\", \"bonita\", \"menos\", \"entrega\", \"foto\", \"pendientes\", \"solo\", \"colgante\", \"quedan\", \"mala\", \"bonito\", \"llego\", \"peque\\u00f1o\", \"tal\", \"bonita\", \"pulsera\", \"colgante\", \"mala\", \"nunca\", \"ve\", \"pedir\", \"fina\", \"llega\", \"malo\", \"carga\", \"pega\", \"veces\", \"rapido\", \"pandora\", \"rat\\u00f3n\", \"elegante\", \"conectar\", \"fino\", \"pantalla\", \"volver\\u00eda\", \"pulseras\", \"encanta\", \"asi\", \"acabados\", \"queda\", \"grande\", \"quiz\\u00e1s\", \"calidad\", \"ser\", \"puede\", \"foto\", \"tiempo\", \"gusto\", \"cable\", \"precio\", \"ped\\u00ed\", \"tres\", \"cadena\", \"bastante\", \"parece\", \"regalo\", \"bien\", \"buena\", \"tama\\u00f1o\", \"uso\", \"mas\", \"producto\", \"si\", \"perfecto\", \"mando\", \"bonitos\", \"plata\", \"grandes\", \"menos\", \"quedan\", \"original\", \"peque\\u00f1os\", \"switch\", \"color\", \"poner\", \"pl\\u00e1stico\", \"nintendo\", \"peque\\u00f1a\", \"hijo\", \"pueden\", \"q\", \"puedes\", \"sonido\", \"funda\", \"van\", \"forma\", \"mujer\", \"cargador\", \"encant\\u00f3\", \"pc\", \"enseguida\", \"sirve\", \"buenos\", \"tacto\", \"pendientes\", \"juegos\", \"bien\", \"solo\", \"consola\", \"si\", \"as\\u00ed\", \"bueno\", \"mal\", \"buena\", \"calidad\", \"parte\", \"dos\", \"mejor\", \"mas\", \"buen\", \"precio\", \"jugar\", \"bastante\", \"juego\", \"amazon\", \"llegado\", \"pedido\", \"entrega\", \"ahora\", \"env\\u00edo\", \"gracias\", \"espa\\u00f1ol\", \"correcto\", \"caja\", \"entregado\", \"recibido\", \"servicio\", \"llegar\", \"versi\\u00f3n\", \"paquete\", \"todav\\u00eda\", \"ning\\u00fan\", \"devolver\", \"barato\", \"saga\", \"totalmente\", \"disco\", \"cosas\", \"toda\", \"compre\", \"historia\", \"dinero\", \"rota\", \"d\\u00eda\", \"lleg\\u00f3\", \"trae\", \"sido\", \"art\\u00edculo\", \"vendedor\", \"producto\", \"r\\u00e1pido\", \"perfecto\", \"cumple\", \"esperaba\", \"despu\\u00e9s\", \"viene\", \"funciona\", \"si\", \"precio\", \"buen\", \"mas\"], \"Total\": [117.0, 63.0, 52.0, 50.0, 185.0, 144.0, 47.0, 39.0, 48.0, 34.0, 34.0, 37.0, 43.0, 33.0, 31.0, 29.0, 29.0, 25.0, 35.0, 24.0, 24.0, 26.0, 24.0, 23.0, 52.0, 29.0, 45.0, 25.0, 22.0, 24.0, 63.54829406738281, 33.644569396972656, 29.906530380249023, 29.906539916992188, 26.168546676635742, 37.383358001708984, 25.234052658081055, 24.299571990966797, 20.562057495117188, 22.431110382080078, 20.562768936157227, 14.95459270477295, 16.8238525390625, 14.020139694213867, 14.954720497131348, 12.151138305664062, 12.151226043701172, 11.216668128967285, 9.347685813903809, 9.34769058227539, 9.347637176513672, 9.347628593444824, 8.41314697265625, 8.413128852844238, 7.478654861450195, 7.478634834289551, 8.413487434387207, 7.478760242462158, 7.478653907775879, 35.522125244140625, 29.914743423461914, 9.348213195800781, 144.068115234375, 36.49494934082031, 50.53743362426758, 52.376461029052734, 42.12687683105469, 20.583078384399414, 22.443368911743164, 116.11164093017578, 14.024420738220215, 13.090743064880371, 32.741207122802734, 53.3358268737793, 48.685333251953125, 61.811031341552734, 185.45883178710938, 65.54090881347656, 34.618690490722656, 23.382892608642578, 64.6631088256836, 105.12493896484375, 112.50694274902344, 59.108341217041016, 52.50508499145508, 39.378662109375, 34.690399169921875, 24.377077102661133, 24.37708282470703, 22.501962661743164, 31.877338409423828, 21.56424331665039, 20.626773834228516, 21.563743591308594, 19.68896484375, 18.751306533813477, 16.876407623291016, 16.87605094909668, 15.938606262207031, 15.001033782958984, 15.93828010559082, 14.063472747802734, 14.063389778137207, 14.063425064086914, 12.188329696655273, 15.001020431518555, 12.188223838806152, 11.2506103515625, 11.250439643859863, 10.313170433044434, 10.312753677368164, 9.375564575195312, 9.375575065612793, 9.375373840332031, 29.069839477539062, 23.435449600219727, 185.45883178710938, 45.98081970214844, 20.63725471496582, 112.50694274902344, 40.350006103515625, 25.296850204467773, 36.52239227294922, 65.54090881347656, 144.068115234375, 30.955303192138672, 39.33039474487305, 35.629730224609375, 64.6631088256836, 60.94563293457031, 116.11164093017578, 33.773704528808594, 53.3358268737793, 117.5888671875, 34.803707122802734, 50.79264831542969, 24.455467224121094, 23.514684677124023, 25.3956298828125, 21.633066177368164, 21.632972717285156, 17.870498657226562, 17.87006378173828, 47.02884292602539, 15.048383712768555, 15.048276901245117, 15.048235893249512, 15.98845100402832, 14.107399940490723, 14.107300758361816, 12.225797653198242, 16.92762565612793, 11.285199165344238, 11.285109519958496, 11.285089492797852, 11.284878730773926, 10.34461784362793, 10.344568252563477, 10.344524383544922, 14.105612754821777, 10.344395637512207, 13.165301322937012, 11.284462928771973, 48.880680084228516, 43.236305236816406, 16.924474716186523, 27.26618194580078, 17.857900619506836, 19.739334106445312, 105.12493896484375, 20.665552139282227, 59.108341217041016, 24.409915924072266, 34.70988464355469, 27.212581634521484, 38.46656799316406, 34.738319396972656, 112.50694274902344, 116.11164093017578, 60.94563293457031, 64.6631088256836], \"loglift\": [30.0, 29.0, 28.0, 27.0, 26.0, 25.0, 24.0, 23.0, 22.0, 21.0, 20.0, 19.0, 18.0, 17.0, 16.0, 15.0, 14.0, 13.0, 12.0, 11.0, 10.0, 9.0, 8.0, 7.0, 6.0, 5.0, 4.0, 3.0, 2.0, 1.0, 1.0338000059127808, 1.0233999490737915, 1.021299958229065, 1.0205999612808228, 1.0191999673843384, 1.0185999870300293, 1.0182000398635864, 1.0163999795913696, 1.0061999559402466, 1.0055999755859375, 1.0023000240325928, 1.0, 0.9987000226974487, 0.9952999949455261, 0.9941999912261963, 0.9891999959945679, 0.982699990272522, 0.9758999943733215, 0.9746999740600586, 0.9724000096321106, 0.9711999893188477, 0.9666000008583069, 0.9648000001907349, 0.9591000080108643, 0.9509000182151794, 0.9502000212669373, 0.9491999745368958, 0.9480000138282776, 0.9480000138282776, 0.9466000199317932, 0.9314000010490417, 0.9399999976158142, 0.6895999908447266, 0.8040000200271606, 0.7623000144958496, 0.7483000159263611, 0.7249000072479248, 0.8323000073432922, 0.8154000043869019, 0.5008000135421753, 0.887499988079071, 0.8964999914169312, 0.6743000149726868, 0.5516999959945679, 0.5386000275611877, 0.41370001435279846, -0.0038999998942017555, 0.35030001401901245, 0.5871999859809875, 0.7444000244140625, 0.08179999887943268, -0.26330000162124634, -0.4113999903202057, -0.11020000278949738, 1.0979000329971313, 1.093999981880188, 1.0901999473571777, 1.083799958229065, 1.082900047302246, 1.0819000005722046, 1.0795999765396118, 1.0794999599456787, 1.0786999464035034, 1.0757999420166016, 1.0742000341415405, 1.0735000371932983, 1.0717999935150146, 1.06850004196167, 1.066499948501587, 1.0652999877929688, 1.0650999546051025, 1.0633000135421753, 1.062600016593933, 1.061900019645691, 1.0568000078201294, 1.0556000471115112, 1.0556000471115112, 1.0506000518798828, 1.048699975013733, 1.0463000535964966, 1.041599988937378, 1.0397000312805176, 1.0397000312805176, 1.037600040435791, 1.0290000438690186, 1.028499960899353, 0.599399983882904, 0.7947999835014343, 0.8986999988555908, 0.5056999921798706, 0.6392999887466431, 0.7876999974250793, 0.6182000041007996, 0.23240000009536743, -0.20229999721050262, 0.6046000123023987, 0.46239998936653137, 0.5181999802589417, 0.1395999938249588, 0.15389999747276306, -0.3675000071525574, 0.5198000073432922, 0.14000000059604645, 1.1371999979019165, 1.1240999698638916, 1.1194000244140625, 1.1157000064849854, 1.1146999597549438, 1.1138999462127686, 1.111299991607666, 1.1109000444412231, 1.1067999601364136, 1.1045000553131104, 1.1009999513626099, 1.1003999710083008, 1.0997999906539917, 1.0995999574661255, 1.0989999771118164, 1.0958000421524048, 1.0951999425888062, 1.0879000425338745, 1.086899995803833, 1.0842000246047974, 1.0835000276565552, 1.083299994468689, 1.0812000036239624, 1.0799000263214111, 1.0795999765396118, 1.079200029373169, 1.0787999629974365, 1.0779000520706177, 1.0772000551223755, 1.0755000114440918, 1.0183000564575195, 1.0011999607086182, 1.048799991607666, 0.9861999750137329, 0.9939000010490417, 0.9757000207901001, 0.6247000098228455, 0.8877999782562256, 0.48669999837875366, 0.7804999947547913, 0.595300018787384, 0.6639999747276306, 0.429500013589859, 0.4713999927043915, -0.36739999055862427, -0.5103999972343445, -0.016699999570846558, -0.28619998693466187], \"logprob\": [30.0, 29.0, 28.0, 27.0, 26.0, 25.0, 24.0, 23.0, 22.0, 21.0, 20.0, 19.0, 18.0, 17.0, 16.0, 15.0, 14.0, 13.0, 12.0, 11.0, 10.0, 9.0, 8.0, 7.0, 6.0, 5.0, 4.0, 3.0, 2.0, 1.0, -3.7462000846862793, -4.392600059509277, -4.512400150299072, -4.5131001472473145, -4.6479997634887695, -4.291999816894531, -4.685400009155273, -4.724999904632568, -4.902200222015381, -4.815800189971924, -4.906099796295166, -5.226799964904785, -5.110300064086914, -5.296000003814697, -5.232600212097168, -5.445199966430664, -5.451700210571289, -5.53849983215332, -5.7220001220703125, -5.724299907684326, -5.725500106811523, -5.730100154876709, -5.837200164794922, -5.842899799346924, -5.968800067901611, -5.969600200653076, -5.852700233459473, -5.971700191497803, -5.971799850463867, -4.41510009765625, -4.602099895477295, -5.7565999031066895, -3.2720000743865967, -4.530600070953369, -4.246799945831299, -4.224999904632568, -4.46619987487793, -5.074999809265137, -5.005499839782715, -3.676500082015991, -5.403500080108643, -5.463399887084961, -4.768899917602539, -4.403500080108643, -4.507800102233887, -4.394100189208984, -3.712899923324585, -4.398799896240234, -4.800300121307373, -5.035399913787842, -4.680799961090088, -4.539999961853027, -4.620200157165527, -4.962600231170654, -3.872999906539917, -4.164599895477295, -4.295199871063232, -4.654399871826172, -4.655300140380859, -4.736299991607666, -4.3902997970581055, -4.781199932098389, -4.826499938964844, -4.784999847412109, -4.877500057220459, -4.927000045776367, -5.03410005569458, -5.037399768829346, -5.09660005569458, -5.158400058746338, -5.0980000495910645, -5.224899768829346, -5.225599765777588, -5.22629976272583, -5.374499797821045, -5.168099880218506, -5.375800132751465, -5.4608001708984375, -5.462699890136719, -5.55210018157959, -5.55679988861084, -5.6539998054504395, -5.6539998054504395, -5.656099796295166, -4.533199787139893, -4.749100208282471, -3.109600067138672, -4.308800220489502, -5.00600004196167, -3.7030999660491943, -4.594900131225586, -4.913400173187256, -4.715700149536133, -4.51669979095459, -4.163899898529053, -4.894700050354004, -4.797399997711182, -4.8404998779296875, -4.623000144958496, -4.667900085449219, -4.5447998046875, -4.892300128936768, -4.815199851989746, -3.0274999141693115, -4.257999897003174, -3.8845999240875244, -4.61929988861084, -4.6595001220703125, -4.583399772644043, -4.746300220489502, -4.746699810028076, -4.94189977645874, -4.944200038909912, -3.9800000190734863, -5.120200157165527, -5.120800018310547, -5.120999813079834, -5.0609002113342285, -5.1894001960754395, -5.190000057220459, -5.3403000831604, -5.015999794006348, -5.424200057983398, -5.424799919128418, -5.425099849700928, -5.427199840545654, -5.515399932861328, -5.515699863433838, -5.516200065612793, -5.206399917602539, -5.517399787902832, -5.277100086212158, -5.4328999519348145, -4.024099826812744, -4.163899898529053, -5.054299831390381, -4.639900207519531, -5.0553998947143555, -4.973499774932861, -3.6519999504089355, -5.015600204467773, -4.365699768066406, -4.956299781799316, -4.7895002365112305, -4.964200019836426, -4.852499961853027, -4.912600040435791, -4.576200008392334, -4.687699794769287, -4.838600158691406, -5.048799991607666]}, \"token.table\": {\"Topic\": [1, 3, 3, 1, 3, 1, 1, 2, 3, 3, 1, 2, 3, 1, 2, 3, 1, 1, 2, 1, 2, 3, 1, 2, 3, 1, 2, 3, 2, 1, 2, 1, 2, 2, 3, 1, 2, 3, 1, 2, 1, 2, 1, 3, 1, 2, 3, 3, 3, 1, 3, 1, 3, 3, 1, 3, 3, 1, 2, 3, 1, 3, 1, 1, 2, 2, 3, 3, 3, 3, 1, 3, 1, 1, 2, 1, 2, 1, 2, 3, 2, 3, 1, 2, 2, 1, 3, 2, 3, 3, 1, 2, 1, 2, 3, 1, 1, 3, 3, 1, 1, 3, 1, 2, 3, 1, 1, 2, 1, 2, 3, 1, 2, 3, 2, 2, 1, 3, 2, 1, 1, 2, 1, 1, 3, 1, 2, 3, 1, 2, 3, 2, 3, 1, 3, 1, 2, 1, 2, 3, 2, 1, 2, 1, 2, 3, 2, 2, 2, 1, 2, 3, 1, 2, 3, 1, 2, 3, 2, 2, 1, 2, 1, 2, 1, 2, 2, 1, 2, 1, 1, 3, 1, 2, 3, 3, 1, 3, 3, 1, 3, 3, 1, 2, 3, 2, 3, 2, 2, 3, 2, 2, 2, 1, 1, 2, 1, 3, 3, 3, 3, 1, 2, 3, 1, 2, 3, 1, 2, 2, 1, 2, 1, 1, 2, 3, 3, 1, 2, 3, 1], \"Freq\": [0.9359973073005676, 0.9844213128089905, 0.9769074320793152, 0.11199524998664856, 0.8399643301963806, 0.9359840154647827, 0.04956628754734993, 0.6195785999298096, 0.3221808671951294, 0.9747357964515686, 0.618721067905426, 0.37498247623443604, 0.018749123439192772, 0.35048210620880127, 0.5985155701637268, 0.048528291285037994, 0.9935591816902161, 0.9913719892501831, 0.9903841018676758, 0.2953451871871948, 0.37738552689552307, 0.3117532730102539, 0.5035023093223572, 0.41195645928382874, 0.09154587984085083, 0.23718367516994476, 0.7115510106086731, 0.03953061252832413, 0.9599410891532898, 0.8020186424255371, 0.17822636663913727, 0.7024787068367004, 0.3054255247116089, 0.04252709448337555, 0.9568595886230469, 0.7010572552680969, 0.27070528268814087, 0.027764644473791122, 0.9361592531204224, 0.9777247309684753, 0.9907247424125671, 0.9738568663597107, 0.07089376449584961, 0.9216189384460449, 0.9628110527992249, 0.8237529993057251, 0.19382423162460327, 0.9513116478919983, 0.9666908979415894, 0.28676870465278625, 0.6964383125305176, 0.36747708916664124, 0.6247110366821289, 0.9747280478477478, 0.07595724612474442, 0.9114869236946106, 0.9666862487792969, 0.4322356879711151, 0.5339381694793701, 0.050851255655288696, 0.10228990018367767, 0.8796931505203247, 0.9628101587295532, 0.9508542418479919, 0.9777395725250244, 0.9696730971336365, 0.9781122207641602, 0.9303324818611145, 0.9707362055778503, 0.9512885212898254, 0.4033433198928833, 0.5762047171592712, 0.9361672401428223, 0.9508926868438721, 0.9332698583602905, 0.7446092963218689, 0.2482030987739563, 0.08635996282100677, 0.4030131697654724, 0.518159806728363, 0.9243836402893066, 0.9707403779029846, 0.9025650024414062, 0.10028500109910965, 0.9845314621925354, 0.8259211778640747, 0.19433438777923584, 0.941111147403717, 0.9667070508003235, 0.9949921369552612, 0.04267039895057678, 0.9387487769126892, 0.118435338139534, 0.5625678300857544, 0.3256971836090088, 0.9510306715965271, 0.019687889143824577, 0.9843944311141968, 0.9381771683692932, 0.9808418154716492, 0.11564355343580246, 0.8788909912109375, 0.3833264708518982, 0.6023702025413513, 0.027380462735891342, 0.9876717329025269, 0.9272375702857971, 0.9903802871704102, 0.3866192102432251, 0.37115442752838135, 0.23197153210639954, 0.22453159093856812, 0.5613289475440979, 0.22453159093856812, 0.9845312833786011, 0.9845569133758545, 0.05907503142952919, 0.945200502872467, 0.9480690360069275, 0.9726653099060059, 0.03137024864554405, 0.9724776744842529, 0.9628051519393921, 0.9508947134017944, 0.9215086698532104, 0.5956619381904602, 0.2259407341480255, 0.18486060202121735, 0.12921856343746185, 0.6137881875038147, 0.2584371268749237, 0.969633936882019, 0.9813756346702576, 0.9726316332817078, 0.04863158240914345, 0.8556503057479858, 0.1426083892583847, 0.9052649736404419, 0.928797721862793, 0.06879983097314835, 0.9480891227722168, 0.9696878790855408, 0.9738343358039856, 0.321443647146225, 0.16918085515499115, 0.5244606733322144, 0.9800982475280762, 0.9599331021308899, 0.9650075435638428, 0.5770308375358582, 0.22392241656780243, 0.18947282433509827, 0.266349732875824, 0.133174866437912, 0.5992869138717651, 0.7519178986549377, 0.039574626833200455, 0.19787313044071198, 0.9332690238952637, 0.9243804812431335, 0.9629953503608704, 0.0267498716711998, 0.9359996914863586, 0.9411303997039795, 0.9008470177650452, 0.08445440977811813, 0.9776924848556519, 0.8557785153388977, 0.10697231441736221, 0.8915303349494934, 0.9628046751022339, 0.9303390979766846, 0.5338853001594543, 0.27503180503845215, 0.19414010643959045, 0.9747916460037231, 0.19355882704257965, 0.7742353081703186, 0.9747375249862671, 0.7946305274963379, 0.191807359457016, 0.9303416013717651, 0.23109684884548187, 0.5421887636184692, 0.22220851480960846, 0.1467018723487854, 0.8435357809066772, 0.9599421620368958, 0.7394387722015381, 0.2609783709049225, 0.9243859648704529, 0.9696135520935059, 0.9599617123603821, 0.9696875810623169, 0.6354948878288269, 0.34663355350494385, 0.7358722686767578, 0.2611159682273865, 0.9666950106620789, 0.981531023979187, 0.9747557044029236, 0.05908602848649025, 0.05908602848649025, 0.886290431022644, 0.8402884602546692, 0.0763898566365242, 0.0763898566365242, 0.7270272374153137, 0.2565978467464447, 0.9845483303070068, 0.9807807207107544, 0.044580940157175064, 0.9052584171295166, 0.1013205423951149, 0.05066027119755745, 0.8612245917320251, 0.9215021729469299, 0.28596261143684387, 0.20797280967235565, 0.49393540620803833, 0.9359971880912781], \"Term\": [\"acabados\", \"ahora\", \"amazon\", \"art\\u00edculo\", \"art\\u00edculo\", \"asi\", \"as\\u00ed\", \"as\\u00ed\", \"as\\u00ed\", \"barato\", \"bastante\", \"bastante\", \"bastante\", \"bien\", \"bien\", \"bien\", \"bonita\", \"bonito\", \"bonitos\", \"buen\", \"buen\", \"buen\", \"buena\", \"buena\", \"buena\", \"bueno\", \"bueno\", \"bueno\", \"buenos\", \"cable\", \"cable\", \"cadena\", \"cadena\", \"caja\", \"caja\", \"calidad\", \"calidad\", \"calidad\", \"carga\", \"cargador\", \"colgante\", \"color\", \"compre\", \"compre\", \"conectar\", \"consola\", \"consola\", \"correcto\", \"cosas\", \"cumple\", \"cumple\", \"despu\\u00e9s\", \"despu\\u00e9s\", \"devolver\", \"dinero\", \"dinero\", \"disco\", \"dos\", \"dos\", \"dos\", \"d\\u00eda\", \"d\\u00eda\", \"elegante\", \"encanta\", \"encant\\u00f3\", \"enseguida\", \"entrega\", \"entregado\", \"env\\u00edo\", \"espa\\u00f1ol\", \"esperaba\", \"esperaba\", \"fina\", \"fino\", \"forma\", \"foto\", \"foto\", \"funciona\", \"funciona\", \"funciona\", \"funda\", \"gracias\", \"grande\", \"grande\", \"grandes\", \"gusto\", \"gusto\", \"hijo\", \"historia\", \"juego\", \"juegos\", \"juegos\", \"jugar\", \"jugar\", \"jugar\", \"llega\", \"llegado\", \"llegado\", \"llegar\", \"llego\", \"lleg\\u00f3\", \"lleg\\u00f3\", \"mal\", \"mal\", \"mal\", \"mala\", \"malo\", \"mando\", \"mas\", \"mas\", \"mas\", \"mejor\", \"mejor\", \"mejor\", \"menos\", \"mujer\", \"ning\\u00fan\", \"ning\\u00fan\", \"nintendo\", \"nunca\", \"original\", \"original\", \"pandora\", \"pantalla\", \"paquete\", \"parece\", \"parece\", \"parece\", \"parte\", \"parte\", \"parte\", \"pc\", \"pedido\", \"pedir\", \"pedir\", \"ped\\u00ed\", \"ped\\u00ed\", \"pega\", \"pendientes\", \"pendientes\", \"peque\\u00f1a\", \"peque\\u00f1o\", \"peque\\u00f1os\", \"perfecto\", \"perfecto\", \"perfecto\", \"plata\", \"pl\\u00e1stico\", \"poner\", \"precio\", \"precio\", \"precio\", \"producto\", \"producto\", \"producto\", \"puede\", \"puede\", \"puede\", \"pueden\", \"puedes\", \"pulsera\", \"pulsera\", \"pulseras\", \"q\", \"queda\", \"queda\", \"quedan\", \"quiz\\u00e1s\", \"quiz\\u00e1s\", \"rapido\", \"rat\\u00f3n\", \"recibido\", \"regalo\", \"regalo\", \"regalo\", \"rota\", \"r\\u00e1pido\", \"r\\u00e1pido\", \"saga\", \"ser\", \"ser\", \"servicio\", \"si\", \"si\", \"si\", \"sido\", \"sido\", \"sirve\", \"solo\", \"solo\", \"sonido\", \"switch\", \"tacto\", \"tal\", \"tama\\u00f1o\", \"tama\\u00f1o\", \"tiempo\", \"tiempo\", \"toda\", \"todav\\u00eda\", \"totalmente\", \"trae\", \"trae\", \"trae\", \"tres\", \"tres\", \"tres\", \"uso\", \"uso\", \"van\", \"ve\", \"ve\", \"veces\", \"vendedor\", \"vendedor\", \"vendedor\", \"versi\\u00f3n\", \"viene\", \"viene\", \"viene\", \"volver\\u00eda\"]}, \"R\": 30, \"lambda.step\": 0.01, \"plot.opts\": {\"xlab\": \"PC1\", \"ylab\": \"PC2\"}, \"topic.order\": [3, 2, 1]};\n",
       "\n",
       "function LDAvis_load_lib(url, callback){\n",
       "  var s = document.createElement('script');\n",
       "  s.src = url;\n",
       "  s.async = true;\n",
       "  s.onreadystatechange = s.onload = callback;\n",
       "  s.onerror = function(){console.warn(\"failed to load library \" + url);};\n",
       "  document.getElementsByTagName(\"head\")[0].appendChild(s);\n",
       "}\n",
       "\n",
       "if(typeof(LDAvis) !== \"undefined\"){\n",
       "   // already loaded: just create the visualization\n",
       "   !function(LDAvis){\n",
       "       new LDAvis(\"#\" + \"ldavis_el697550351583529650866336\", ldavis_el697550351583529650866336_data);\n",
       "   }(LDAvis);\n",
       "}else if(typeof define === \"function\" && define.amd){\n",
       "   // require.js is available: use it to load d3/LDAvis\n",
       "   require.config({paths: {d3: \"https://cdnjs.cloudflare.com/ajax/libs/d3/3.5.5/d3.min\"}});\n",
       "   require([\"d3\"], function(d3){\n",
       "      window.d3 = d3;\n",
       "      LDAvis_load_lib(\"https://cdn.rawgit.com/bmabey/pyLDAvis/files/ldavis.v1.0.0.js\", function(){\n",
       "        new LDAvis(\"#\" + \"ldavis_el697550351583529650866336\", ldavis_el697550351583529650866336_data);\n",
       "      });\n",
       "    });\n",
       "}else{\n",
       "    // require.js not available: dynamically load d3 & LDAvis\n",
       "    LDAvis_load_lib(\"https://cdnjs.cloudflare.com/ajax/libs/d3/3.5.5/d3.min.js\", function(){\n",
       "         LDAvis_load_lib(\"https://cdn.rawgit.com/bmabey/pyLDAvis/files/ldavis.v1.0.0.js\", function(){\n",
       "                 new LDAvis(\"#\" + \"ldavis_el697550351583529650866336\", ldavis_el697550351583529650866336_data);\n",
       "            })\n",
       "         });\n",
       "}\n",
       "</script>"
      ],
      "text/plain": [
       "<IPython.core.display.HTML object>"
      ]
     },
     "execution_count": 62,
     "metadata": {},
     "output_type": "execute_result"
    }
   ],
   "source": [
    "pyLDAvis.display(display_list[1])"
   ]
  },
  {
   "cell_type": "markdown",
   "metadata": {},
   "source": [
    "### Visualización 3"
   ]
  },
  {
   "cell_type": "code",
   "execution_count": 63,
   "metadata": {},
   "outputs": [
    {
     "data": {
      "text/html": [
       "\n",
       "<link rel=\"stylesheet\" type=\"text/css\" href=\"https://cdn.rawgit.com/bmabey/pyLDAvis/files/ldavis.v1.0.0.css\">\n",
       "\n",
       "\n",
       "<div id=\"ldavis_el697550528945443533114684\"></div>\n",
       "<script type=\"text/javascript\">\n",
       "\n",
       "var ldavis_el697550528945443533114684_data = {\"mdsDat\": {\"x\": [-0.223119097261354, 0.01348962794944627, 0.129998690334679, 0.07963077897722852], \"y\": [-0.04925070397797693, 0.09520425940619565, -0.1710161291579568, 0.12506257372973817], \"topics\": [1, 2, 3, 4], \"cluster\": [1, 1, 1, 1], \"Freq\": [28.45953369140625, 27.767742156982422, 23.835975646972656, 19.93674659729004]}, \"tinfo\": {\"Category\": [\"Default\", \"Default\", \"Default\", \"Default\", \"Default\", \"Default\", \"Default\", \"Default\", \"Default\", \"Default\", \"Default\", \"Default\", \"Default\", \"Default\", \"Default\", \"Default\", \"Default\", \"Default\", \"Default\", \"Default\", \"Default\", \"Default\", \"Default\", \"Default\", \"Default\", \"Default\", \"Default\", \"Default\", \"Default\", \"Default\", \"Topic1\", \"Topic1\", \"Topic1\", \"Topic1\", \"Topic1\", \"Topic1\", \"Topic1\", \"Topic1\", \"Topic1\", \"Topic1\", \"Topic1\", \"Topic1\", \"Topic1\", \"Topic1\", \"Topic1\", \"Topic1\", \"Topic1\", \"Topic1\", \"Topic1\", \"Topic1\", \"Topic1\", \"Topic1\", \"Topic1\", \"Topic1\", \"Topic1\", \"Topic1\", \"Topic1\", \"Topic1\", \"Topic1\", \"Topic1\", \"Topic1\", \"Topic1\", \"Topic1\", \"Topic1\", \"Topic1\", \"Topic1\", \"Topic1\", \"Topic1\", \"Topic1\", \"Topic1\", \"Topic1\", \"Topic1\", \"Topic1\", \"Topic1\", \"Topic1\", \"Topic1\", \"Topic1\", \"Topic1\", \"Topic1\", \"Topic1\", \"Topic1\", \"Topic1\", \"Topic1\", \"Topic2\", \"Topic2\", \"Topic2\", \"Topic2\", \"Topic2\", \"Topic2\", \"Topic2\", \"Topic2\", \"Topic2\", \"Topic2\", \"Topic2\", \"Topic2\", \"Topic2\", \"Topic2\", \"Topic2\", \"Topic2\", \"Topic2\", \"Topic2\", \"Topic2\", \"Topic2\", \"Topic2\", \"Topic2\", \"Topic2\", \"Topic2\", \"Topic2\", \"Topic2\", \"Topic2\", \"Topic2\", \"Topic2\", \"Topic2\", \"Topic2\", \"Topic2\", \"Topic2\", \"Topic2\", \"Topic2\", \"Topic2\", \"Topic2\", \"Topic2\", \"Topic2\", \"Topic2\", \"Topic2\", \"Topic2\", \"Topic2\", \"Topic2\", \"Topic2\", \"Topic2\", \"Topic2\", \"Topic2\", \"Topic2\", \"Topic2\", \"Topic2\", \"Topic2\", \"Topic2\", \"Topic2\", \"Topic2\", \"Topic2\", \"Topic2\", \"Topic3\", \"Topic3\", \"Topic3\", \"Topic3\", \"Topic3\", \"Topic3\", \"Topic3\", \"Topic3\", \"Topic3\", \"Topic3\", \"Topic3\", \"Topic3\", \"Topic3\", \"Topic3\", \"Topic3\", \"Topic3\", \"Topic3\", \"Topic3\", \"Topic3\", \"Topic3\", \"Topic3\", \"Topic3\", \"Topic3\", \"Topic3\", \"Topic3\", \"Topic3\", \"Topic3\", \"Topic3\", \"Topic3\", \"Topic3\", \"Topic3\", \"Topic3\", \"Topic3\", \"Topic3\", \"Topic3\", \"Topic3\", \"Topic3\", \"Topic3\", \"Topic3\", \"Topic3\", \"Topic3\", \"Topic3\", \"Topic3\", \"Topic3\", \"Topic3\", \"Topic3\", \"Topic3\", \"Topic3\", \"Topic3\", \"Topic3\", \"Topic3\", \"Topic3\", \"Topic3\", \"Topic3\", \"Topic3\", \"Topic3\", \"Topic3\", \"Topic3\", \"Topic3\", \"Topic4\", \"Topic4\", \"Topic4\", \"Topic4\", \"Topic4\", \"Topic4\", \"Topic4\", \"Topic4\", \"Topic4\", \"Topic4\", \"Topic4\", \"Topic4\", \"Topic4\", \"Topic4\", \"Topic4\", \"Topic4\", \"Topic4\", \"Topic4\", \"Topic4\", \"Topic4\", \"Topic4\", \"Topic4\", \"Topic4\", \"Topic4\", \"Topic4\", \"Topic4\", \"Topic4\", \"Topic4\", \"Topic4\", \"Topic4\", \"Topic4\", \"Topic4\", \"Topic4\", \"Topic4\", \"Topic4\", \"Topic4\", \"Topic4\", \"Topic4\", \"Topic4\", \"Topic4\", \"Topic4\", \"Topic4\", \"Topic4\", \"Topic4\", \"Topic4\", \"Topic4\", \"Topic4\", \"Topic4\", \"Topic4\", \"Topic4\", \"Topic4\", \"Topic4\", \"Topic4\"], \"Freq\": [63.0, 61.0, 52.0, 144.0, 50.0, 105.0, 117.0, 37.0, 34.0, 34.0, 48.0, 43.0, 29.0, 32.0, 34.0, 59.0, 52.0, 29.0, 32.0, 33.0, 26.0, 37.0, 35.0, 65.0, 46.0, 53.0, 25.0, 21.0, 21.0, 20.0, 62.445228576660156, 33.657073974609375, 33.64163589477539, 31.80071449279785, 29.001522064208984, 36.162113189697266, 25.296674728393555, 24.371335983276367, 20.59360694885254, 19.69279670715332, 14.156020164489746, 11.361977577209473, 30.58391571044922, 11.285194396972656, 8.589523315429688, 8.584366798400879, 8.582462310791016, 8.581432342529297, 8.559483528137207, 8.556282043457031, 8.536355018615723, 6.730903148651123, 6.724504470825195, 6.723666667938232, 6.719656467437744, 6.71956729888916, 6.715218544006348, 6.702865123748779, 6.701348781585693, 6.6983561515808105, 8.353341102600098, 30.573854446411133, 25.7512149810791, 24.318397521972656, 31.06644630432129, 39.20561599731445, 23.094558715820312, 41.649967193603516, 33.238502502441406, 12.050333976745605, 19.673568725585938, 50.12642288208008, 58.35097885131836, 20.77516746520996, 12.727347373962402, 14.604713439941406, 13.733469009399414, 16.875869750976562, 16.22256851196289, 21.59197235107422, 13.761590003967285, 14.545197486877441, 14.090900421142578, 51.829341888427734, 19.930978775024414, 15.227914810180664, 15.212076187133789, 13.36212158203125, 11.48712158203125, 10.538068771362305, 10.53602123260498, 9.611658096313477, 8.671838760375977, 8.671576499938965, 8.666569709777832, 7.732405185699463, 7.727701187133789, 7.722226619720459, 7.711585521697998, 6.795037746429443, 6.790621280670166, 6.781661510467529, 6.77235746383667, 6.769286632537842, 6.75249719619751, 5.858434200286865, 5.857827663421631, 5.857689380645752, 5.842986106872559, 5.838587284088135, 5.838690280914307, 12.407123565673828, 5.780665874481201, 20.54546356201172, 30.92028045654297, 13.901192665100098, 17.830106735229492, 44.42368698120117, 86.91094207763672, 34.734378814697266, 18.68164825439453, 23.722414016723633, 22.31170082092285, 63.065006256103516, 23.116886138916016, 36.333492279052734, 55.13914489746094, 45.186012268066406, 17.58190155029297, 12.93967056274414, 12.207498550415039, 12.463705062866211, 35.58009338378906, 24.326997756958008, 17.740758895874023, 15.795988082885742, 13.063349723815918, 14.11822509765625, 14.865702629089355, 13.708971977233887, 20.839540481567383, 20.82139778137207, 14.303008079528809, 15.137590408325195, 11.477169036865234, 10.545267105102539, 9.608651161193848, 9.60832405090332, 19.148277282714844, 8.678766250610352, 7.732277870178223, 7.6964287757873535, 6.791034698486328, 5.853769302368164, 5.839234352111816, 5.835885047912598, 5.833890914916992, 5.827719688415527, 5.809068202972412, 8.244185447692871, 5.750307083129883, 4.92428731918335, 12.302913665771484, 11.488879203796387, 4.917820453643799, 4.917125225067139, 4.916591644287109, 4.9097371101379395, 4.906314849853516, 44.13399887084961, 29.287078857421875, 28.150442123413086, 20.49468421936035, 10.364151954650879, 22.245712280273438, 32.85704040527344, 15.599535942077637, 34.701904296875, 37.7289924621582, 12.929125785827637, 8.469038009643555, 52.02275085449219, 10.629130363464355, 11.18334674835205, 15.781598091125488, 54.798492431640625, 11.102448463439941, 20.271657943725586, 31.31890106201172, 14.742137908935547, 11.891919136047363, 16.264345169067383, 12.810734748840332, 14.06318187713623, 13.477201461791992, 15.825913429260254, 12.561203956604004, 13.019083023071289, 12.039409637451172, 17.288982391357422, 13.497005462646484, 12.544547080993652, 10.636350631713867, 9.698972702026367, 8.747124671936035, 8.738241195678711, 7.814416885375977, 7.8092169761657715, 7.8055524826049805, 7.793117523193359, 18.740407943725586, 5.916638374328613, 5.912380218505859, 5.90936279296875, 5.908736705780029, 5.904660224914551, 5.903928756713867, 26.00626564025879, 4.971358776092529, 4.967998504638672, 4.958043575286865, 4.956117153167725, 4.9541015625, 4.9469895362854, 4.938199996948242, 11.373889923095703, 16.165569305419922, 11.27904224395752, 18.405441284179688, 47.270381927490234, 11.520235061645508, 26.844356536865234, 15.291735649108887, 11.712545394897461, 10.126744270324707, 26.896995544433594, 10.787416458129883, 15.415656089782715, 40.96207046508789, 18.206829071044922, 19.252180099487305, 31.876283645629883, 28.799789428710938, 36.839630126953125, 17.43700408935547, 11.442730903625488, 12.223055839538574, 10.515013694763184, 15.80666446685791, 13.552950859069824, 12.216010093688965, 10.881637573242188], \"Term\": [\"bonito\", \"buen\", \"mando\", \"calidad\", \"llegado\", \"producto\", \"juego\", \"pulsera\", \"plata\", \"tama\\u00f1o\", \"d\\u00eda\", \"lleg\\u00f3\", \"ps\", \"cadena\", \"amazon\", \"perfecto\", \"foto\", \"tal\", \"gustado\", \"llego\", \"bonita\", \"perfectamente\", \"queda\", \"buena\", \"solo\", \"bastante\", \"colgante\", \"peque\\u00f1os\", \"gracias\", \"consola\", \"bonito\", \"plata\", \"tama\\u00f1o\", \"cadena\", \"tal\", \"pulsera\", \"bonita\", \"colgante\", \"color\", \"r\\u00e1pido\", \"fina\", \"contenta\", \"gustado\", \"todav\\u00eda\", \"pandora\", \"rompi\\u00f3\", \"elegante\", \"encantada\", \"anillo\", \"misma\", \"colores\", \"elegantes\", \"brillo\", \"negro\", \"preciosos\", \"medida\", \"parecido\", \"primero\", \"jugando\", \"gust\\u00f3\", \"quiz\\u00e1s\", \"queda\", \"grande\", \"pendientes\", \"bonitos\", \"foto\", \"peque\\u00f1o\", \"regalo\", \"parece\", \"regalar\", \"demasiado\", \"calidad\", \"bien\", \"dos\", \"fotos\", \"grandes\", \"ve\", \"esperaba\", \"as\\u00ed\", \"precio\", \"cierre\", \"aunque\", \"buena\", \"mando\", \"switch\", \"hijo\", \"q\", \"sonido\", \"xbox\", \"deja\", \"encant\\u00f3\", \"pc\", \"ideal\", \"f\\u00e1cil\", \"conectar\", \"ajusta\", \"cabe\", \"voy\", \"corresponde\", \"gr\\u00e1ficos\", \"entretenido\", \"acabados\", \"sony\", \"primer\", \"recomendado\", \"sistema\", \"one\", \"desear\", \"ruido\", \"tipo\", \"abrir\", \"malo\", \"perdi\\u00f3\", \"mala\", \"perfectamente\", \"botones\", \"cable\", \"buena\", \"calidad\", \"puede\", \"bueno\", \"jugar\", \"original\", \"precio\", \"mejor\", \"mas\", \"si\", \"juego\", \"funciona\", \"pedir\", \"da\", \"vendedor\", \"bien\", \"producto\", \"bastante\", \"caja\", \"ahora\", \"ser\", \"regalo\", \"buen\", \"peque\\u00f1os\", \"gracias\", \"entregado\", \"llegar\", \"expectativas\", \"rota\", \"semana\", \"devuelto\", \"nunca\", \"esperando\", \"c\\u00f3mo\", \"ninguna\", \"hora\", \"semanas\", \"perdido\", \"compras\", \"mayor\", \"tiendas\", \"prime\", \"contento\", \"decepcionado\", \"repartidor\", \"paquete\", \"dinero\", \"\\u00fanica\", \"gente\", \"juguete\", \"rapidez\", \"pensaba\", \"llegado\", \"amazon\", \"llego\", \"pedido\", \"casa\", \"despu\\u00e9s\", \"lleg\\u00f3\", \"vale\", \"d\\u00eda\", \"perfecto\", \"muchas\", \"disco\", \"producto\", \"ped\\u00ed\", \"pueden\", \"cumple\", \"bien\", \"recibido\", \"tiempo\", \"juego\", \"sido\", \"meses\", \"dos\", \"puedo\", \"pena\", \"ser\", \"precio\", \"mal\", \"si\", \"foto\", \"espa\\u00f1ol\", \"versi\\u00f3n\", \"imagen\", \"rapido\", \"acabado\", \"buenos\", \"tacto\", \"italiano\", \"modo\", \"materiales\", \"fatal\", \"consola\", \"cerrar\", \"plazo\", \"cd\", \"completo\", \"much\\u00edsimo\", \"llegaron\", \"ps\", \"ingles\", \"espa\\u00f1ola\", \"exactamente\", \"articulo\", \"ingl\\u00e9s\", \"jugabilidad\", \"usado\", \"excelente\", \"gran\", \"descripci\\u00f3n\", \"juegos\", \"buen\", \"envio\", \"solo\", \"entrega\", \"trae\", \"nota\", \"bastante\", \"nuevo\", \"compr\\u00e9\", \"juego\", \"viene\", \"caja\", \"si\", \"producto\", \"bien\", \"aunque\", \"hace\", \"recomiendo\", \"mismo\", \"precio\", \"perfecto\", \"parece\", \"as\\u00ed\"], \"Total\": [63.0, 61.0, 52.0, 144.0, 50.0, 105.0, 117.0, 37.0, 34.0, 34.0, 48.0, 43.0, 29.0, 32.0, 34.0, 59.0, 52.0, 29.0, 32.0, 33.0, 26.0, 37.0, 35.0, 65.0, 46.0, 53.0, 25.0, 21.0, 21.0, 20.0, 63.162574768066406, 34.37213134765625, 34.37229919433594, 32.514671325683594, 29.72850227355957, 37.161041259765625, 26.01361846923828, 25.084932327270508, 21.370607376098633, 20.441240310668945, 14.86888599395752, 12.082744598388672, 32.52738571166992, 12.083131790161133, 9.296578407287598, 9.296533584594727, 9.296565055847168, 9.296574592590332, 9.296751976013184, 9.296673774719238, 9.296623229980469, 7.439144611358643, 7.439085006713867, 7.439109802246094, 7.439054489135742, 7.439101219177246, 7.43911075592041, 7.439122676849365, 7.439044952392578, 7.43913459777832, 9.298832893371582, 35.341957092285156, 29.761878967285156, 28.868711471557617, 39.15499496459961, 52.14643478393555, 29.78923225402832, 61.54548645019531, 48.570533752441406, 14.911770820617676, 28.912656784057617, 144.0484619140625, 185.56919860839844, 39.21736526489258, 17.704029083251953, 24.273195266723633, 22.379430770874023, 34.62499237060547, 40.288047790527344, 116.28955841064453, 24.255844116210938, 43.185699462890625, 65.60350799560547, 52.54450607299805, 20.642257690429688, 15.950651168823242, 15.950475692749023, 14.074200630187988, 12.197653770446777, 11.258991241455078, 11.258869171142578, 10.321040153503418, 9.382596969604492, 9.382586479187012, 9.38267993927002, 8.444389343261719, 8.444313049316406, 8.444170951843262, 8.443957328796387, 7.506067276000977, 7.505991458892822, 7.505805969238281, 7.505887985229492, 7.505467414855957, 7.505753040313721, 6.567793369293213, 6.567822456359863, 6.56777811050415, 6.567789077758789, 6.567451000213623, 6.5677056312561035, 14.074064254760742, 6.566373348236084, 24.426830291748047, 37.53306579589844, 16.91185188293457, 22.520126342773438, 65.60350799560547, 144.0484619140625, 50.730953216552734, 25.280620574951172, 33.872806549072266, 31.933032989501953, 116.28955841064453, 35.551570892333984, 64.71163177490234, 112.78742218017578, 117.70558166503906, 34.78638458251953, 20.64459800720215, 18.7058162689209, 19.751914978027344, 185.56919860839844, 105.3930892944336, 53.66111755371094, 47.10875701904297, 25.317935943603516, 36.51066589355469, 61.54548645019531, 61.459774017333984, 21.58711051940918, 21.587751388549805, 15.017386436462402, 15.954833030700684, 12.201394081115723, 11.26289176940918, 10.324234962463379, 10.324165344238281, 20.640790939331055, 9.385727882385254, 8.44701862335205, 8.446290016174316, 7.508431911468506, 6.569677829742432, 6.569268226623535, 6.56960916519165, 6.569273471832275, 6.569211959838867, 6.569750785827637, 9.3895845413208, 6.569626331329346, 5.631267547607422, 14.078218460083008, 13.149225234985352, 5.631103038787842, 5.631199359893799, 5.630987644195557, 5.631163597106934, 5.631161689758301, 50.69731903076172, 34.72669982910156, 33.74774932861328, 24.434776306152344, 12.200823783874512, 27.21465301513672, 43.269813537597656, 19.69123077392578, 48.666629791259766, 59.18217849731445, 16.8931884765625, 10.323716163635254, 105.3930892944336, 14.049698829650879, 15.016002655029297, 24.480594635009766, 185.56919860839844, 15.04842758178711, 42.2572021484375, 117.70558166503906, 27.124231338500977, 17.824275970458984, 39.21736526489258, 21.58479881286621, 30.909013748168945, 36.51066589355469, 116.28955841064453, 36.47779083251953, 112.78742218017578, 52.14643478393555, 17.998149871826172, 14.206990242004395, 13.25900650024414, 11.363099098205566, 10.415579795837402, 9.467758178710938, 9.467397689819336, 8.520360946655273, 8.52022647857666, 8.520100593566895, 8.519718170166016, 20.827835083007812, 6.624651908874512, 6.624505519866943, 6.624528884887695, 6.624524116516113, 6.6244425773620605, 6.624255180358887, 29.34484100341797, 5.677002429962158, 5.676906585693359, 5.676614761352539, 5.676567077636719, 5.676463603973389, 5.676286697387695, 5.675936698913574, 13.246907234191895, 18.90399932861328, 13.235225677490234, 23.640256881713867, 61.459774017333984, 15.126094818115234, 46.24402618408203, 23.610279083251953, 17.003501892089844, 14.14006233215332, 53.66111755371094, 16.05756378173828, 27.25990104675293, 117.70558166503906, 38.570457458496094, 47.10875701904297, 112.78742218017578, 105.3930892944336, 185.56919860839844, 43.185699462890625, 20.703277587890625, 28.210071563720703, 17.861597061157227, 116.28955841064453, 59.18217849731445, 48.570533752441406, 40.288047790527344], \"loglift\": [30.0, 29.0, 28.0, 27.0, 26.0, 25.0, 24.0, 23.0, 22.0, 21.0, 20.0, 19.0, 18.0, 17.0, 16.0, 15.0, 14.0, 13.0, 12.0, 11.0, 10.0, 9.0, 8.0, 7.0, 6.0, 5.0, 4.0, 3.0, 2.0, 1.0, 1.245300054550171, 1.235700011253357, 1.235200047492981, 1.2345000505447388, 1.2318999767303467, 1.2294000387191772, 1.228700041770935, 1.2278000116348267, 1.2196999788284302, 1.2194000482559204, 1.2075999975204468, 1.195199966430664, 1.195099949836731, 1.1884000301361084, 1.1776000261306763, 1.1770000457763672, 1.176800012588501, 1.1765999794006348, 1.1741000413894653, 1.173699975013733, 1.1713999509811401, 1.156599998474121, 1.1556999683380127, 1.1555999517440796, 1.1549999713897705, 1.1549999713897705, 1.1542999744415283, 1.152500033378601, 1.1523000001907349, 1.1518000364303589, 1.1495000123977661, 1.111799955368042, 1.111899971961975, 1.0851999521255493, 1.0253000259399414, 0.9714999794960022, 1.0020999908447266, 0.8661999702453613, 0.8773999810218811, 1.0435999631881714, 0.8716999888420105, 0.20110000669956207, 0.09969999641180038, 0.6212999820709229, 0.9265999794006348, 0.7487000226974487, 0.7684000134468079, 0.5379999876022339, 0.34700000286102295, -0.4271000027656555, 0.6898999810218811, 0.16840000450611115, -0.28139999508857727, 1.2676000595092773, 1.2461999654769897, 1.2348999977111816, 1.2338999509811401, 1.2294000387191772, 1.2213000059127808, 1.2151000499725342, 1.214900016784668, 1.2101000547409058, 1.2024999856948853, 1.2024999856948853, 1.2019000053405762, 1.1931999921798706, 1.1926000118255615, 1.1919000148773193, 1.190600037574768, 1.1818000078201294, 1.1811000108718872, 1.179800033569336, 1.1785000562667847, 1.1780999898910522, 1.1755000352859497, 1.1670000553131104, 1.1669000387191772, 1.1669000387191772, 1.1643999814987183, 1.163699984550476, 1.163599967956543, 1.1552000045776367, 1.1539000272750854, 1.108299970626831, 1.087499976158142, 1.0852999687194824, 1.0477999448776245, 0.8913999795913696, 0.7760000228881836, 0.9024999737739563, 0.9787999987602234, 0.9251000285148621, 0.9228000044822693, 0.6693999767303467, 0.8508999943733215, 0.7041000127792358, 0.5656999945640564, 0.3239000141620636, 0.5989000201225281, 0.8141000270843506, 0.8544999957084656, 0.820900022983551, -0.3702999949455261, -0.18479999899864197, 0.1745000034570694, 0.18860000371932983, 0.6195999979972839, 0.3312000036239624, -0.13940000534057617, -0.21899999678134918, 1.3986999988555908, 1.3977999687194824, 1.385200023651123, 1.3813999891281128, 1.3727999925613403, 1.3681000471115112, 1.3621000051498413, 1.3621000051498413, 1.3588999509811401, 1.3557000160217285, 1.3456000089645386, 1.340999960899353, 1.3336000442504883, 1.318600058555603, 1.3162000179290771, 1.315500020980835, 1.3152999877929688, 1.3142000436782837, 1.3108999729156494, 1.3039000034332275, 1.3007999658584595, 1.2998000383377075, 1.2992000579833984, 1.2990000247955322, 1.2984999418258667, 1.2984000444412231, 1.29830002784729, 1.2969000339508057, 1.2962000370025635, 1.295300006866455, 1.2635999917984009, 1.2525999546051025, 1.2581000328063965, 1.270799994468689, 1.2323999404907227, 1.1586999893188477, 1.2009999752044678, 1.0958000421524048, 0.9837999939918518, 1.1664999723434448, 1.2359000444412231, 0.7279999852180481, 1.1549999713897705, 1.139299988746643, 0.9948999881744385, 0.2142000049352646, 1.1298999786376953, 0.699400007724762, 0.10999999940395355, 0.8242999911308289, 1.0292999744415283, 0.5537999868392944, 0.9122999906539917, 0.6464999914169312, 0.4374000132083893, -0.5605000257492065, 0.367900013923645, -0.7250999808311462, -0.03189999982714653, 1.5723999738693237, 1.5613000392913818, 1.5571999549865723, 1.5464999675750732, 1.5413000583648682, 1.533400058746338, 1.5325000286102295, 1.5261000394821167, 1.5255000591278076, 1.524999976158142, 1.5234999656677246, 1.5069999694824219, 1.4996000528335571, 1.498900055885315, 1.4983999729156494, 1.4982999563217163, 1.4975999593734741, 1.497499942779541, 1.4917999505996704, 1.4799000024795532, 1.479200005531311, 1.4773000478744507, 1.4768999814987183, 1.4765000343322754, 1.475100040435791, 1.4733999967575073, 1.4601999521255493, 1.4560999870300293, 1.4527000188827515, 1.3623000383377075, 1.350100040435791, 1.3402999639511108, 1.0686999559402466, 1.1782000064849854, 1.239799976348877, 1.2788000106811523, 0.9218999743461609, 1.2148000001907349, 1.0426000356674194, 0.5570999979972839, 0.8618999719619751, 0.7178000211715698, 0.3490000069141388, 0.31529998779296875, -0.00419999985024333, 0.7056999802589417, 1.019700050354004, 0.7763000130653381, 1.082800030708313, -0.382999986410141, 0.13860000669956207, 0.23229999840259552, 0.303600013256073], \"logprob\": [30.0, 29.0, 28.0, 27.0, 26.0, 25.0, 24.0, 23.0, 22.0, 21.0, 20.0, 19.0, 18.0, 17.0, 16.0, 15.0, 14.0, 13.0, 12.0, 11.0, 10.0, 9.0, 8.0, 7.0, 6.0, 5.0, 4.0, 3.0, 2.0, 1.0, -3.540800094604492, -4.158899784088135, -4.15939998626709, -4.21560001373291, -4.307799816131592, -4.087100028991699, -4.444499969482422, -4.4816999435424805, -4.650100231170654, -4.694900035858154, -5.025000095367432, -5.244900226593018, -4.254700183868408, -5.2515997886657715, -5.524600028991699, -5.525199890136719, -5.525400161743164, -5.5254998207092285, -5.52810001373291, -5.528500080108643, -5.530799865722656, -5.768400192260742, -5.769400119781494, -5.769499778747559, -5.770100116729736, -5.770100116729736, -5.7708001136779785, -5.772600173950195, -5.772799968719482, -5.7733001708984375, -5.552499771118164, -4.255000114440918, -4.426599979400635, -4.48390007019043, -4.238999843597412, -4.00629997253418, -4.5355000495910645, -3.9458000659942627, -4.17140007019043, -5.185999870300293, -4.695899963378906, -3.7606000900268555, -3.6087000370025635, -4.64139986038208, -5.131400108337402, -4.993800163269043, -5.055300235748291, -4.8491997718811035, -4.888700008392334, -4.602799892425537, -5.053199768066406, -4.997900009155273, -5.029600143432617, -3.7026000022888184, -4.658199787139893, -4.9274001121521, -4.928400039672852, -5.05810022354126, -5.2093000411987305, -5.295499801635742, -5.2957000732421875, -5.387499809265137, -5.4903998374938965, -5.490499973297119, -5.491000175476074, -5.605100154876709, -5.6057000160217285, -5.606400012969971, -5.607800006866455, -5.734300136566162, -5.735000133514404, -5.736299991607666, -5.73769998550415, -5.738100051879883, -5.740600109100342, -5.882599830627441, -5.882699966430664, -5.882800102233887, -5.885300159454346, -5.886000156402588, -5.886000156402588, -5.132299900054932, -5.895999908447266, -4.627900123596191, -4.219099998474121, -5.018499851226807, -4.769599914550781, -3.8566999435424805, -3.1856000423431396, -4.102799892425537, -4.7230000495910645, -4.484099864959717, -4.545400142669678, -3.5064001083374023, -4.510000228881836, -4.057799816131592, -3.640700101852417, -3.8396999835968018, -4.783699989318848, -5.090199947357178, -5.148499965667725, -5.127699851989746, -4.078700065612793, -4.458899974822998, -4.774700164794922, -4.8907999992370605, -5.080699920654297, -5.0030999183654785, -4.951499938964844, -5.03249979019165, -4.460999965667725, -4.461900234222412, -4.837399959564209, -4.780700206756592, -5.057499885559082, -5.142199993133545, -5.235199928283691, -5.235199928283691, -4.545599937438965, -5.336999893188477, -5.452400207519531, -5.457099914550781, -5.582200050354004, -5.730800151824951, -5.7332000732421875, -5.733799934387207, -5.7342000007629395, -5.735199928283691, -5.738399982452393, -5.388299942016602, -5.748600006103516, -5.90369987487793, -4.98799991607666, -5.05649995803833, -5.90500020980835, -5.905099868774414, -5.905200004577637, -5.906599998474121, -5.907299995422363, -3.710599899291992, -4.120699882507324, -4.160299777984619, -4.477700233459473, -5.1595001220703125, -4.395699977874756, -4.00570011138916, -4.7505998611450195, -3.9509999752044678, -3.8673999309539795, -4.938399791717529, -5.361400127410889, -3.5462000370025635, -5.134200096130371, -5.083399772644043, -4.738999843597412, -3.4941999912261963, -5.090700149536133, -4.48859977722168, -4.053599834442139, -4.80709981918335, -5.021999835968018, -4.708899974822998, -4.9475998878479, -4.854300022125244, -4.8968000411987305, -4.736199855804443, -4.967199802398682, -4.931399822235107, -5.009699821472168, -4.469099998474121, -4.716700077056885, -4.789899826049805, -4.954899787902832, -5.0472002029418945, -5.1504998207092285, -5.151500225067139, -5.263199806213379, -5.263899803161621, -5.264400005340576, -5.265999794006348, -4.388500213623047, -5.541399955749512, -5.542200088500977, -5.542699813842773, -5.542799949645996, -5.543499946594238, -5.543600082397461, -4.0609002113342285, -5.7154998779296875, -5.71619987487793, -5.718200206756592, -5.718599796295166, -5.718999862670898, -5.720399856567383, -5.7221999168396, -4.887899875640869, -4.536300182342529, -4.896299839019775, -4.406599998474121, -3.4632999897003174, -4.875100135803223, -4.029200077056885, -4.591899871826172, -4.85860013961792, -5.004000186920166, -4.027200222015381, -4.940800189971924, -4.583799839019775, -3.606600046157837, -4.417399883270264, -4.361599922180176, -3.857300043106079, -3.9588000774383545, -3.712599992752075, -4.460599899291992, -4.881899833679199, -4.815899848937988, -4.966400146484375, -4.558800220489502, -4.712600231170654, -4.816500186920166, -4.93209981918335]}, \"token.table\": {\"Topic\": [2, 4, 2, 1, 2, 4, 2, 2, 3, 1, 4, 1, 2, 3, 4, 1, 2, 4, 1, 2, 4, 1, 2, 3, 4, 1, 1, 1, 3, 4, 2, 4, 1, 2, 4, 1, 2, 4, 1, 2, 3, 4, 2, 2, 3, 1, 2, 3, 4, 1, 2, 4, 2, 3, 4, 4, 1, 2, 1, 1, 1, 4, 3, 1, 3, 4, 2, 3, 4, 1, 3, 4, 2, 3, 4, 3, 1, 2, 3, 2, 1, 2, 3, 4, 1, 4, 2, 1, 2, 3, 3, 3, 4, 2, 3, 1, 3, 4, 1, 3, 1, 1, 1, 2, 3, 4, 3, 2, 3, 4, 4, 4, 1, 3, 4, 3, 4, 2, 4, 3, 4, 1, 1, 2, 3, 1, 2, 3, 4, 2, 3, 4, 2, 3, 3, 1, 4, 1, 2, 1, 2, 3, 4, 2, 1, 3, 1, 1, 2, 4, 2, 3, 2, 4, 4, 4, 4, 2, 3, 4, 3, 4, 4, 1, 2, 4, 3, 1, 3, 4, 3, 4, 1, 2, 3, 3, 4, 1, 2, 3, 2, 4, 2, 3, 2, 1, 2, 3, 4, 4, 3, 1, 1, 2, 3, 1, 2, 3, 4, 1, 1, 4, 4, 2, 3, 4, 1, 3, 1, 4, 3, 4, 1, 3, 2, 1, 2, 3, 4, 1, 2, 3, 1, 2, 3, 4, 1, 2, 3, 4, 2, 3, 1, 3, 1, 2, 3, 1, 3, 4, 3, 1, 2, 3, 3, 2, 2, 3, 1, 3, 4, 1, 4, 1, 2, 3, 4, 1, 3, 2, 1, 2, 3, 4, 2, 4, 2, 3, 4, 2, 3, 2, 3, 1, 2, 2, 1, 2, 1, 3, 4, 3, 4, 2, 1, 2, 3, 4, 1, 4, 1, 2, 4, 3, 1, 3, 2, 1, 3, 3, 1, 2, 3, 1, 2, 3, 4, 1, 2, 3, 2, 2, 3, 4, 2, 2, 2, 4, 1, 1, 1, 2, 3, 4, 3, 2, 1, 2, 4, 4, 1, 2, 3, 1, 2, 1, 2, 4, 4, 1, 2, 3, 4, 2, 2, 3], \"Freq\": [0.9135610461235046, 0.9601001739501953, 0.932611346244812, 0.27648383378982544, 0.5134699940681458, 0.1974884569644928, 0.9473745822906494, 0.1439814269542694, 0.835092306137085, 0.9680800437927246, 0.8808140158653259, 0.39714011549949646, 0.29785507917404175, 0.02482125721871853, 0.27303382754325867, 0.3473372161388397, 0.2547139525413513, 0.39364883303642273, 0.16771920025348663, 0.33543840050697327, 0.5031576156616211, 0.3125518560409546, 0.19399771094322205, 0.29638540744781494, 0.19938653707504272, 0.9610350728034973, 0.981593906879425, 0.7917252779006958, 0.025539524853229523, 0.17877668142318726, 0.8278217911720276, 0.17739039659500122, 0.9409759640693665, 0.22779126465320587, 0.7647278308868408, 0.21340322494506836, 0.6706958413124084, 0.10670161247253418, 0.19777995347976685, 0.7515638470649719, 0.03955598920583725, 0.9505946040153503, 0.9473831653594971, 0.7992850542068481, 0.17761889100074768, 0.9841710925102234, 0.3396396040916443, 0.2547297179698944, 0.4033220410346985, 0.3471054136753082, 0.6039634346961975, 0.04859475791454315, 0.08196167647838593, 0.8196167945861816, 0.9057247638702393, 0.9057079553604126, 0.5771805047988892, 0.41227176785469055, 0.9567496180534363, 0.9826580882072449, 0.9680934548377991, 0.9057254195213318, 0.9132963418960571, 0.366839200258255, 0.03668392077088356, 0.5502587556838989, 0.9592142105102539, 0.09602534025907516, 0.912240743637085, 0.9103891849517822, 0.8520078659057617, 0.10650098323822021, 0.9474231004714966, 0.6535788774490356, 0.3267894387245178, 0.9470797181129456, 0.32075583934783936, 0.6415116786956787, 0.9132939577102661, 0.9769969582557678, 0.6917385458946228, 0.13834771513938904, 0.06917385756969452, 0.10376078635454178, 0.0755559429526329, 0.8311154246330261, 0.9135509729385376, 0.03674491122364998, 0.14697964489459991, 0.8083880543708801, 0.9686012864112854, 0.8365511894226074, 0.07605011016130447, 0.09686434268951416, 0.7749147415161133, 0.5354771018028259, 0.4079825282096863, 0.050997816026210785, 0.2671234905719757, 0.7191786170005798, 0.9680994749069214, 0.94096839427948, 0.968098521232605, 0.9770075082778931, 0.3388354778289795, 0.6353164911270142, 0.9322527647018433, 0.9325883388519287, 0.1983327567577362, 0.7933310270309448, 0.9445415139198303, 0.8807613849639893, 0.4909748435020447, 0.2888087332248688, 0.23104698956012726, 0.9589027166366577, 0.8808066248893738, 0.07548931986093521, 0.8303825259208679, 0.9015363454818726, 0.9389982223510742, 0.9415634870529175, 0.7478938698768616, 0.019176766276359558, 0.2301211953163147, 0.7342961430549622, 0.11296863853931427, 0.11296863853931427, 0.056484319269657135, 0.517443835735321, 0.2874687910079956, 0.20122815668582916, 0.959223747253418, 0.8879103064537048, 0.9727738499641418, 0.10579771548509598, 0.8463817238807678, 0.8736007809638977, 0.1344001144170761, 0.6179656386375427, 0.08239541202783585, 0.2059885412454605, 0.12359312176704407, 0.9325789213180542, 0.9530431032180786, 0.030743325129151344, 0.9409696459770203, 0.2415076494216919, 0.19320611655712128, 0.5313168168067932, 0.9404004812240601, 0.9322851896286011, 0.959222674369812, 0.9804655909538269, 0.8807464838027954, 0.8808301091194153, 0.9389273524284363, 0.38230982422828674, 0.26336899399757385, 0.348326712846756, 0.21150362491607666, 0.761413037776947, 0.880857527256012, 0.9409810304641724, 0.708532989025116, 0.29522207379341125, 0.887943685054779, 0.039449818432331085, 0.8678960204124451, 0.07889963686466217, 0.9401540160179138, 0.9057621955871582, 0.11852642148733139, 0.029631605371832848, 0.8296849727630615, 0.7626563906669617, 0.23110799491405487, 0.32896730303764343, 0.32896730303764343, 0.35638123750686646, 0.8597103953361511, 0.12281577289104462, 0.8526321649551392, 0.0710526779294014, 0.9896372556686401, 0.15453171730041504, 0.55631422996521, 0.18543806672096252, 0.108172208070755, 0.9389560222625732, 0.9133430123329163, 0.9409738779067993, 0.2812815308570862, 0.6469475030899048, 0.05625630542635918, 0.1683097779750824, 0.056103259325027466, 0.6732391119003296, 0.11220651865005493, 0.9680882096290588, 0.39190223813056946, 0.6158463954925537, 0.9389421939849854, 0.1775863617658615, 0.7695409059524536, 0.9057365655899048, 0.9409728050231934, 0.9471614360809326, 0.21216313540935516, 0.7072104811668396, 0.31137973070144653, 0.6850354075431824, 0.048447754234075546, 0.9205073714256287, 0.913544774055481, 0.09394660592079163, 0.6889417767524719, 0.03131553530693054, 0.18789321184158325, 0.9680981040000916, 0.07103171199560165, 0.8523805737495422, 0.6794242858886719, 0.06176584213972092, 0.02058861404657364, 0.24706336855888367, 0.9409726858139038, 0.9688946008682251, 0.8185055255889893, 0.12277583032846451, 0.6297046542167664, 0.33907175064086914, 0.21352770924568176, 0.7829349040985107, 0.19411812722682953, 0.35588324069976807, 0.4529423117637634, 0.8313499093055725, 0.03463957831263542, 0.10391873866319656, 0.8879162669181824, 0.7720910906791687, 0.2014150619506836, 0.9728026986122131, 0.9133437275886536, 0.9137464165687561, 0.8259384036064148, 0.1598590463399887, 0.13517582416534424, 0.6420851945877075, 0.23655769228935242, 0.9891734719276428, 0.9057279825210571, 0.18918293714523315, 0.5417511463165283, 0.13758759200572968, 0.13758759200572968, 0.9409797787666321, 0.9132766723632812, 0.9326534271240234, 0.9409711956977844, 0.22771891951560974, 0.4933909773826599, 0.2751603424549103, 0.10223262012004852, 0.8860160708427429, 0.6899141073226929, 0.19711831212043762, 0.11827098578214645, 0.19978685677051544, 0.7325518131256104, 0.37063121795654297, 0.6022757291793823, 0.9687564969062805, 0.026909902691841125, 0.940410852432251, 0.8771443963050842, 0.11317992210388184, 0.8603230118751526, 0.8879159688949585, 0.9680457711219788, 0.7309733629226685, 0.19935637712478638, 0.9326179623603821, 0.21268999576568604, 0.21268999576568604, 0.14179332554340363, 0.42537999153137207, 0.804733395576477, 0.13412223756313324, 0.6824221014976501, 0.24372217059135437, 0.08124072849750519, 0.8878995776176453, 0.968102753162384, 0.9766585826873779, 0.9135494232177734, 0.9784142374992371, 0.9685947895050049, 0.9132868051528931, 0.2465033084154129, 0.38344958424568176, 0.35606032609939575, 0.11526107788085938, 0.4876430332660675, 0.11526107788085938, 0.28371956944465637, 0.33180662989616394, 0.11060221493244171, 0.5530110597610474, 0.9135488271713257, 0.259492963552475, 0.15137089788913727, 0.5838592052459717, 0.9236758947372437, 0.9326011538505554, 0.9688862562179565, 0.9506308436393738, 0.9754948019981384, 0.989168643951416, 0.11832302808761597, 0.2129814475774765, 0.47329211235046387, 0.18931683897972107, 0.9133515357971191, 0.9135964512825012, 0.9103600382804871, 0.29405707120895386, 0.7057369947433472, 0.8809118866920471, 0.1015680581331253, 0.1015680581331253, 0.8125444650650024, 0.6255744695663452, 0.3574711084365845, 0.05062800273299217, 0.6075360178947449, 0.30376800894737244, 0.915042519569397, 0.20741263031959534, 0.2592657804489136, 0.07777973264455795, 0.4666784107685089, 0.9473990797996521, 0.9018127918243408, 0.8879255056381226], \"Term\": [\"abrir\", \"acabado\", \"acabados\", \"ahora\", \"ahora\", \"ahora\", \"ajusta\", \"amazon\", \"amazon\", \"anillo\", \"articulo\", \"as\\u00ed\", \"as\\u00ed\", \"as\\u00ed\", \"as\\u00ed\", \"aunque\", \"aunque\", \"aunque\", \"bastante\", \"bastante\", \"bastante\", \"bien\", \"bien\", \"bien\", \"bien\", \"bonita\", \"bonito\", \"bonitos\", \"bonitos\", \"bonitos\", \"botones\", \"botones\", \"brillo\", \"buen\", \"buen\", \"buena\", \"buena\", \"buena\", \"bueno\", \"bueno\", \"bueno\", \"buenos\", \"cabe\", \"cable\", \"cable\", \"cadena\", \"caja\", \"caja\", \"caja\", \"calidad\", \"calidad\", \"calidad\", \"casa\", \"casa\", \"cd\", \"cerrar\", \"cierre\", \"cierre\", \"colgante\", \"color\", \"colores\", \"completo\", \"compras\", \"compr\\u00e9\", \"compr\\u00e9\", \"compr\\u00e9\", \"conectar\", \"consola\", \"consola\", \"contenta\", \"contento\", \"contento\", \"corresponde\", \"cumple\", \"cumple\", \"c\\u00f3mo\", \"da\", \"da\", \"decepcionado\", \"deja\", \"demasiado\", \"demasiado\", \"demasiado\", \"demasiado\", \"descripci\\u00f3n\", \"descripci\\u00f3n\", \"desear\", \"despu\\u00e9s\", \"despu\\u00e9s\", \"despu\\u00e9s\", \"devuelto\", \"dinero\", \"dinero\", \"disco\", \"disco\", \"dos\", \"dos\", \"dos\", \"d\\u00eda\", \"d\\u00eda\", \"elegante\", \"elegantes\", \"encantada\", \"encant\\u00f3\", \"entrega\", \"entrega\", \"entregado\", \"entretenido\", \"envio\", \"envio\", \"espa\\u00f1ol\", \"espa\\u00f1ola\", \"esperaba\", \"esperaba\", \"esperaba\", \"esperando\", \"exactamente\", \"excelente\", \"excelente\", \"expectativas\", \"fatal\", \"fina\", \"foto\", \"foto\", \"foto\", \"fotos\", \"fotos\", \"fotos\", \"fotos\", \"funciona\", \"funciona\", \"funciona\", \"f\\u00e1cil\", \"gente\", \"gracias\", \"gran\", \"gran\", \"grande\", \"grande\", \"grandes\", \"grandes\", \"grandes\", \"grandes\", \"gr\\u00e1ficos\", \"gustado\", \"gustado\", \"gust\\u00f3\", \"hace\", \"hace\", \"hace\", \"hijo\", \"hora\", \"ideal\", \"imagen\", \"ingles\", \"ingl\\u00e9s\", \"italiano\", \"juego\", \"juego\", \"juego\", \"juegos\", \"juegos\", \"jugabilidad\", \"jugando\", \"jugar\", \"jugar\", \"juguete\", \"llegado\", \"llegado\", \"llegado\", \"llegar\", \"llegaron\", \"llego\", \"llego\", \"llego\", \"lleg\\u00f3\", \"lleg\\u00f3\", \"mal\", \"mal\", \"mal\", \"mala\", \"mala\", \"malo\", \"malo\", \"mando\", \"mas\", \"mas\", \"mas\", \"mas\", \"materiales\", \"mayor\", \"medida\", \"mejor\", \"mejor\", \"mejor\", \"meses\", \"meses\", \"meses\", \"meses\", \"misma\", \"mismo\", \"mismo\", \"modo\", \"muchas\", \"muchas\", \"much\\u00edsimo\", \"negro\", \"ninguna\", \"nota\", \"nota\", \"nuevo\", \"nuevo\", \"nunca\", \"nunca\", \"one\", \"original\", \"original\", \"original\", \"original\", \"pandora\", \"paquete\", \"paquete\", \"parece\", \"parece\", \"parece\", \"parece\", \"parecido\", \"pc\", \"pedido\", \"pedido\", \"pedir\", \"pedir\", \"ped\\u00ed\", \"ped\\u00ed\", \"pena\", \"pena\", \"pena\", \"pendientes\", \"pendientes\", \"pendientes\", \"pensaba\", \"peque\\u00f1o\", \"peque\\u00f1o\", \"peque\\u00f1os\", \"perdido\", \"perdi\\u00f3\", \"perfectamente\", \"perfectamente\", \"perfecto\", \"perfecto\", \"perfecto\", \"plata\", \"plazo\", \"precio\", \"precio\", \"precio\", \"precio\", \"preciosos\", \"prime\", \"primer\", \"primero\", \"producto\", \"producto\", \"producto\", \"ps\", \"ps\", \"puede\", \"puede\", \"puede\", \"pueden\", \"pueden\", \"puedo\", \"puedo\", \"pulsera\", \"pulsera\", \"q\", \"queda\", \"queda\", \"quiz\\u00e1s\", \"rapidez\", \"rapido\", \"recibido\", \"recibido\", \"recomendado\", \"recomiendo\", \"recomiendo\", \"recomiendo\", \"recomiendo\", \"regalar\", \"regalar\", \"regalo\", \"regalo\", \"regalo\", \"repartidor\", \"rompi\\u00f3\", \"rota\", \"ruido\", \"r\\u00e1pido\", \"semana\", \"semanas\", \"ser\", \"ser\", \"ser\", \"si\", \"si\", \"si\", \"si\", \"sido\", \"sido\", \"sido\", \"sistema\", \"solo\", \"solo\", \"solo\", \"sonido\", \"sony\", \"switch\", \"tacto\", \"tal\", \"tama\\u00f1o\", \"tiempo\", \"tiempo\", \"tiempo\", \"tiempo\", \"tiendas\", \"tipo\", \"todav\\u00eda\", \"trae\", \"trae\", \"usado\", \"vale\", \"vale\", \"vale\", \"ve\", \"ve\", \"vendedor\", \"vendedor\", \"vendedor\", \"versi\\u00f3n\", \"viene\", \"viene\", \"viene\", \"viene\", \"voy\", \"xbox\", \"\\u00fanica\"]}, \"R\": 30, \"lambda.step\": 0.01, \"plot.opts\": {\"xlab\": \"PC1\", \"ylab\": \"PC2\"}, \"topic.order\": [1, 3, 2, 4]};\n",
       "\n",
       "function LDAvis_load_lib(url, callback){\n",
       "  var s = document.createElement('script');\n",
       "  s.src = url;\n",
       "  s.async = true;\n",
       "  s.onreadystatechange = s.onload = callback;\n",
       "  s.onerror = function(){console.warn(\"failed to load library \" + url);};\n",
       "  document.getElementsByTagName(\"head\")[0].appendChild(s);\n",
       "}\n",
       "\n",
       "if(typeof(LDAvis) !== \"undefined\"){\n",
       "   // already loaded: just create the visualization\n",
       "   !function(LDAvis){\n",
       "       new LDAvis(\"#\" + \"ldavis_el697550528945443533114684\", ldavis_el697550528945443533114684_data);\n",
       "   }(LDAvis);\n",
       "}else if(typeof define === \"function\" && define.amd){\n",
       "   // require.js is available: use it to load d3/LDAvis\n",
       "   require.config({paths: {d3: \"https://cdnjs.cloudflare.com/ajax/libs/d3/3.5.5/d3.min\"}});\n",
       "   require([\"d3\"], function(d3){\n",
       "      window.d3 = d3;\n",
       "      LDAvis_load_lib(\"https://cdn.rawgit.com/bmabey/pyLDAvis/files/ldavis.v1.0.0.js\", function(){\n",
       "        new LDAvis(\"#\" + \"ldavis_el697550528945443533114684\", ldavis_el697550528945443533114684_data);\n",
       "      });\n",
       "    });\n",
       "}else{\n",
       "    // require.js not available: dynamically load d3 & LDAvis\n",
       "    LDAvis_load_lib(\"https://cdnjs.cloudflare.com/ajax/libs/d3/3.5.5/d3.min.js\", function(){\n",
       "         LDAvis_load_lib(\"https://cdn.rawgit.com/bmabey/pyLDAvis/files/ldavis.v1.0.0.js\", function(){\n",
       "                 new LDAvis(\"#\" + \"ldavis_el697550528945443533114684\", ldavis_el697550528945443533114684_data);\n",
       "            })\n",
       "         });\n",
       "}\n",
       "</script>"
      ],
      "text/plain": [
       "<IPython.core.display.HTML object>"
      ]
     },
     "execution_count": 63,
     "metadata": {},
     "output_type": "execute_result"
    }
   ],
   "source": [
    "pyLDAvis.display(display_list[2])"
   ]
  },
  {
   "cell_type": "markdown",
   "metadata": {},
   "source": [
    "### Visualización 4"
   ]
  },
  {
   "cell_type": "code",
   "execution_count": 64,
   "metadata": {},
   "outputs": [
    {
     "data": {
      "text/html": [
       "\n",
       "<link rel=\"stylesheet\" type=\"text/css\" href=\"https://cdn.rawgit.com/bmabey/pyLDAvis/files/ldavis.v1.0.0.css\">\n",
       "\n",
       "\n",
       "<div id=\"ldavis_el697550521959201532622971\"></div>\n",
       "<script type=\"text/javascript\">\n",
       "\n",
       "var ldavis_el697550521959201532622971_data = {\"mdsDat\": {\"x\": [0.024086721881793227, -0.11429723013328397, 0.11298170496535255, 0.1670135851183308, -0.18978478183219258], \"y\": [0.007845388242151682, -0.2015222927685517, 0.04635932647484626, -0.0014056423466745572, 0.14872322039822847], \"topics\": [1, 2, 3, 4, 5], \"cluster\": [1, 1, 1, 1, 1], \"Freq\": [25.099441528320312, 21.323453903198242, 21.091989517211914, 20.07274627685547, 12.412372589111328]}, \"tinfo\": {\"Category\": [\"Default\", \"Default\", \"Default\", \"Default\", \"Default\", \"Default\", \"Default\", \"Default\", \"Default\", \"Default\", \"Default\", \"Default\", \"Default\", \"Default\", \"Default\", \"Default\", \"Default\", \"Default\", \"Default\", \"Default\", \"Default\", \"Default\", \"Default\", \"Default\", \"Default\", \"Default\", \"Default\", \"Default\", \"Default\", \"Default\", \"Topic1\", \"Topic1\", \"Topic1\", \"Topic1\", \"Topic1\", \"Topic1\", \"Topic1\", \"Topic1\", \"Topic1\", \"Topic1\", \"Topic1\", \"Topic1\", \"Topic1\", \"Topic1\", \"Topic1\", \"Topic1\", \"Topic1\", \"Topic1\", \"Topic1\", \"Topic1\", \"Topic1\", \"Topic1\", \"Topic1\", \"Topic1\", \"Topic1\", \"Topic1\", \"Topic1\", \"Topic1\", \"Topic1\", \"Topic1\", \"Topic1\", \"Topic1\", \"Topic1\", \"Topic1\", \"Topic1\", \"Topic1\", \"Topic1\", \"Topic1\", \"Topic1\", \"Topic1\", \"Topic1\", \"Topic1\", \"Topic1\", \"Topic1\", \"Topic1\", \"Topic1\", \"Topic1\", \"Topic1\", \"Topic1\", \"Topic1\", \"Topic1\", \"Topic1\", \"Topic1\", \"Topic1\", \"Topic1\", \"Topic1\", \"Topic1\", \"Topic1\", \"Topic1\", \"Topic1\", \"Topic2\", \"Topic2\", \"Topic2\", \"Topic2\", \"Topic2\", \"Topic2\", \"Topic2\", \"Topic2\", \"Topic2\", \"Topic2\", \"Topic2\", \"Topic2\", \"Topic2\", \"Topic2\", \"Topic2\", \"Topic2\", \"Topic2\", \"Topic2\", \"Topic2\", \"Topic2\", \"Topic2\", \"Topic2\", \"Topic2\", \"Topic2\", \"Topic2\", \"Topic2\", \"Topic2\", \"Topic2\", \"Topic2\", \"Topic2\", \"Topic2\", \"Topic2\", \"Topic2\", \"Topic2\", \"Topic2\", \"Topic2\", \"Topic2\", \"Topic2\", \"Topic2\", \"Topic2\", \"Topic2\", \"Topic2\", \"Topic2\", \"Topic2\", \"Topic2\", \"Topic2\", \"Topic2\", \"Topic2\", \"Topic2\", \"Topic2\", \"Topic2\", \"Topic2\", \"Topic2\", \"Topic2\", \"Topic3\", \"Topic3\", \"Topic3\", \"Topic3\", \"Topic3\", \"Topic3\", \"Topic3\", \"Topic3\", \"Topic3\", \"Topic3\", \"Topic3\", \"Topic3\", \"Topic3\", \"Topic3\", \"Topic3\", \"Topic3\", \"Topic3\", \"Topic3\", \"Topic3\", \"Topic3\", \"Topic3\", \"Topic3\", \"Topic3\", \"Topic3\", \"Topic3\", \"Topic3\", \"Topic3\", \"Topic3\", \"Topic3\", \"Topic3\", \"Topic3\", \"Topic3\", \"Topic3\", \"Topic3\", \"Topic3\", \"Topic3\", \"Topic3\", \"Topic3\", \"Topic3\", \"Topic3\", \"Topic3\", \"Topic3\", \"Topic3\", \"Topic3\", \"Topic3\", \"Topic3\", \"Topic3\", \"Topic3\", \"Topic3\", \"Topic3\", \"Topic3\", \"Topic3\", \"Topic3\", \"Topic3\", \"Topic3\", \"Topic3\", \"Topic4\", \"Topic4\", \"Topic4\", \"Topic4\", \"Topic4\", \"Topic4\", \"Topic4\", \"Topic4\", \"Topic4\", \"Topic4\", \"Topic4\", \"Topic4\", \"Topic4\", \"Topic4\", \"Topic4\", \"Topic4\", \"Topic4\", \"Topic4\", \"Topic4\", \"Topic4\", \"Topic4\", \"Topic4\", \"Topic4\", \"Topic4\", \"Topic4\", \"Topic4\", \"Topic4\", \"Topic4\", \"Topic4\", \"Topic4\", \"Topic4\", \"Topic4\", \"Topic4\", \"Topic4\", \"Topic4\", \"Topic4\", \"Topic4\", \"Topic4\", \"Topic4\", \"Topic4\", \"Topic4\", \"Topic4\", \"Topic4\", \"Topic4\", \"Topic4\", \"Topic4\", \"Topic4\", \"Topic4\", \"Topic4\", \"Topic4\", \"Topic4\", \"Topic4\", \"Topic4\", \"Topic4\", \"Topic4\", \"Topic5\", \"Topic5\", \"Topic5\", \"Topic5\", \"Topic5\", \"Topic5\", \"Topic5\", \"Topic5\", \"Topic5\", \"Topic5\", \"Topic5\", \"Topic5\", \"Topic5\", \"Topic5\", \"Topic5\", \"Topic5\", \"Topic5\", \"Topic5\", \"Topic5\", \"Topic5\", \"Topic5\", \"Topic5\", \"Topic5\", \"Topic5\", \"Topic5\", \"Topic5\", \"Topic5\", \"Topic5\", \"Topic5\", \"Topic5\", \"Topic5\", \"Topic5\", \"Topic5\", \"Topic5\", \"Topic5\", \"Topic5\", \"Topic5\", \"Topic5\", \"Topic5\", \"Topic5\", \"Topic5\", \"Topic5\", \"Topic5\", \"Topic5\", \"Topic5\", \"Topic5\", \"Topic5\", \"Topic5\", \"Topic5\", \"Topic5\"], \"Freq\": [143.0, 115.0, 63.0, 117.0, 48.0, 65.0, 61.0, 52.0, 59.0, 50.0, 39.0, 36.0, 24.0, 21.0, 60.0, 29.0, 35.0, 34.0, 33.0, 25.0, 40.0, 52.0, 50.0, 29.0, 32.0, 19.0, 20.0, 14.0, 27.0, 30.0, 19.81659698486328, 17.012601852416992, 13.259801864624023, 15.874150276184082, 12.32971477508545, 11.401346206665039, 10.454270362854004, 9.468939781188965, 8.598254203796387, 7.663958549499512, 7.662736415863037, 7.657225131988525, 17.785465240478516, 9.261489868164062, 6.7291789054870605, 6.727750778198242, 6.727664947509766, 6.725510597229004, 6.713903427124023, 7.491655349731445, 5.789251804351807, 5.789463520050049, 46.18787384033203, 12.177629470825195, 4.859012126922607, 4.857751369476318, 4.855639457702637, 4.845705032348633, 4.838348388671875, 7.107407093048096, 25.6744327545166, 32.39322280883789, 12.778411865234375, 12.06045150756836, 9.169800758361816, 72.36138153076172, 17.50873565673828, 22.14303207397461, 14.484809875488281, 15.500986099243164, 21.6610050201416, 71.02935028076172, 19.53208351135254, 18.73240089416504, 19.00938606262207, 40.91184997558594, 14.360389709472656, 16.566909790039062, 33.954750061035156, 20.281463623046875, 22.634361267089844, 14.075607299804688, 16.94209861755371, 16.45878791809082, 16.54050636291504, 17.664169311523438, 13.640913009643555, 14.843727111816406, 15.079079627990723, 14.296870231628418, 62.88682556152344, 28.271974563598633, 24.530187606811523, 15.165207862854004, 14.230140686035156, 12.348001480102539, 10.480731010437012, 8.609594345092773, 7.672665596008301, 7.6723737716674805, 6.739064693450928, 6.738206386566162, 6.735504627227783, 5.8051347732543945, 5.801784515380859, 5.800644874572754, 5.799998760223389, 5.798412322998047, 8.949390411376953, 24.9265079498291, 14.825335502624512, 27.126089096069336, 27.97862434387207, 12.005152702331543, 6.644406795501709, 7.343485355377197, 5.740106582641602, 11.447076797485352, 5.712601184844971, 5.619570255279541, 9.807275772094727, 8.917181015014648, 22.557872772216797, 14.841459274291992, 31.295475006103516, 14.086274147033691, 14.597548484802246, 18.017772674560547, 22.569416046142578, 12.309367179870605, 19.83896827697754, 18.007768630981445, 22.36556625366211, 35.534912109375, 42.072654724121094, 11.878938674926758, 20.742666244506836, 16.151945114135742, 14.014764785766602, 18.20037841796875, 15.210329055786133, 12.194814682006836, 13.40898609161377, 12.505306243896484, 17.93943977355957, 14.205235481262207, 11.400665283203125, 8.577285766601562, 7.655974388122559, 7.648317337036133, 7.62786340713501, 43.863983154296875, 6.699007034301758, 5.7917890548706055, 5.7918219566345215, 5.790088653564453, 5.789953231811523, 5.786553859710693, 4.857461452484131, 4.852973937988281, 4.8510894775390625, 4.850663661956787, 4.849406719207764, 4.8494086265563965, 4.839090824127197, 5.633591175079346, 20.86539649963379, 10.397289276123047, 12.757156372070312, 9.38589859008789, 7.585479259490967, 6.575311660766602, 7.274986267089844, 5.791632652282715, 20.82539176940918, 12.172477722167969, 42.89386749267578, 41.02593994140625, 30.717144012451172, 26.9056396484375, 15.788557052612305, 17.725513458251953, 9.480894088745117, 27.98284339904785, 17.56806182861328, 13.386995315551758, 11.728841781616211, 13.151139259338379, 10.237112998962402, 15.200332641601562, 29.78700065612793, 29.674482345581055, 32.88064193725586, 36.73955154418945, 13.75896167755127, 14.662309646606445, 15.140612602233887, 17.671890258789062, 11.87925910949707, 11.221616744995117, 11.391416549682617, 14.81298828125, 8.590690612792969, 8.583008766174316, 11.918238639831543, 7.657111167907715, 7.651206970214844, 6.722805023193359, 5.786014556884766, 13.174609184265137, 5.757753849029541, 5.754806995391846, 4.854838848114014, 4.854366779327393, 4.853029251098633, 4.8525800704956055, 4.851122856140137, 8.869135856628418, 17.536550521850586, 7.6414079666137695, 6.726330757141113, 6.662093162536621, 4.316938877105713, 20.762836456298828, 108.6478042602539, 5.627628326416016, 7.664159297943115, 4.856513500213623, 4.839328289031982, 4.835927486419678, 84.04694366455078, 17.54507064819336, 17.49407958984375, 35.21929168701172, 16.744003295898438, 36.856998443603516, 15.774516105651855, 10.128429412841797, 19.553878784179688, 9.983428955078125, 11.610426902770996, 13.86883544921875, 12.517356872558594, 9.079137802124023, 35.110504150390625, 14.346426963806152, 24.640830993652344, 21.819355010986328, 14.422430992126465, 13.559211730957031, 13.319018363952637, 10.821123123168945, 11.116183280944824, 10.68096923828125, 10.462160110473633, 21.19574737548828, 13.55870532989502, 6.8746538162231445, 6.872987747192383, 5.920083999633789, 5.919482231140137, 5.919045448303223, 5.915983200073242, 8.413430213928223, 21.595483779907227, 4.96176290512085, 4.959021091461182, 7.831289291381836, 7.540183067321777, 4.509459018707275, 6.756323337554932, 9.579240798950195, 6.596220016479492, 15.040336608886719, 10.680957794189453, 15.493802070617676, 7.724082946777344, 7.618962287902832, 4.81923246383667, 4.008162975311279, 4.002802848815918, 5.923017501831055, 6.408670425415039, 13.153674125671387, 9.372623443603516, 20.68175506591797, 20.76997184753418, 19.301401138305664, 12.985284805297852, 23.90692901611328, 15.143115997314453, 9.468592643737793, 8.051077842712402, 10.795955657958984, 9.785246849060059, 14.752179145812988, 11.385527610778809, 7.973840236663818, 8.355700492858887, 8.584635734558105, 7.306299209594727, 7.701214790344238, 8.362464904785156, 7.8257060050964355, 7.73131799697876], \"Term\": [\"calidad\", \"precio\", \"bonito\", \"juego\", \"d\\u00eda\", \"buena\", \"regalo\", \"mando\", \"perfecto\", \"puede\", \"bonitos\", \"mal\", \"grandes\", \"puedo\", \"buen\", \"pendientes\", \"tama\\u00f1o\", \"plata\", \"llego\", \"colgante\", \"as\\u00ed\", \"foto\", \"llegado\", \"tal\", \"cadena\", \"decir\", \"nunca\", \"mes\", \"compr\\u00e9\", \"pena\", \"switch\", \"espa\\u00f1ol\", \"funda\", \"nintendo\", \"excelente\", \"xbox\", \"cargador\", \"pc\", \"conectar\", \"pro\", \"italiano\", \"encanta\", \"poner\", \"sitio\", \"play\", \"gr\\u00e1ficos\", \"entretenido\", \"encajan\", \"c\\u00f3modos\", \"modo\", \"detalle\", \"one\", \"mando\", \"versi\\u00f3n\", \"ingl\\u00e9s\", \"ingles\", \"usado\", \"adapta\", \"igualmente\", \"deber\\u00eda\", \"pena\", \"as\\u00ed\", \"caso\", \"a\\u00fan\", \"totalmente\", \"juego\", \"juegos\", \"funciona\", \"consola\", \"quedan\", \"mejor\", \"bien\", \"original\", \"parte\", \"jugar\", \"si\", \"cable\", \"ps\", \"producto\", \"solo\", \"perfecto\", \"uso\", \"viene\", \"perfectamente\", \"parece\", \"mas\", \"gusta\", \"mal\", \"buen\", \"aunque\", \"bonito\", \"pendientes\", \"colgante\", \"collar\", \"fina\", \"imagen\", \"devolver\", \"elegante\", \"cajita\", \"fino\", \"elegantes\", \"medida\", \"fecha\", \"plazo\", \"hola\", \"bolsita\", \"semanas\", \"claro\", \"semana\", \"tal\", \"fotos\", \"cadena\", \"plata\", \"dia\", \"marca\", \"anillo\", \"venia\", \"ver\", \"bolsa\", \"pesan\", \"espero\", \"aparece\", \"llego\", \"gracias\", \"foto\", \"r\\u00e1pido\", \"ve\", \"peque\\u00f1o\", \"tiempo\", \"roto\", \"bonitos\", \"esperaba\", \"parece\", \"producto\", \"bien\", \"vendedor\", \"mas\", \"dos\", \"demasiado\", \"regalo\", \"viene\", \"peque\\u00f1os\", \"llegado\", \"perfecto\", \"gran\", \"entregado\", \"todav\\u00eda\", \"cambiar\", \"cargar\", \"relaci\\u00f3n\", \"embalaje\", \"d\\u00eda\", \"parecido\", \"ruido\", \"prime\", \"sistema\", \"perdi\\u00f3\", \"piedras\", \"jugabilidad\", \"opini\\u00f3n\", \"tenia\", \"largo\", \"simplemente\", \"conjunto\", \"enviaron\", \"ningun\", \"pedido\", \"casa\", \"recibido\", \"rapido\", \"esperando\", \"haber\", \"misma\", \"dicen\", \"sido\", \"llegar\", \"regalo\", \"buen\", \"llegado\", \"caja\", \"problema\", \"recomiendo\", \"paquete\", \"buena\", \"amazon\", \"entrega\", \"gusto\", \"ahora\", \"muchas\", \"compra\", \"si\", \"juego\", \"calidad\", \"bien\", \"gustado\", \"puede\", \"mas\", \"precio\", \"funciona\", \"aunque\", \"expectativas\", \"q\", \"pandora\", \"esperar\", \"aspecto\", \"resulta\", \"lado\", \"acabados\", \"ven\", \"regalar\", \"desear\", \"fan\", \"bajo\", \"puesta\", \"junto\", \"videojuegos\", \"piel\", \"ni\\u00f1as\", \"pedir\", \"poder\", \"utilizar\", \"general\", \"excesivamente\", \"compr\\u00e9\", \"calidad\", \"cierra\", \"hecho\", \"valen\", \"corta\", \"aceptable\", \"precio\", \"mala\", \"cumple\", \"puede\", \"bueno\", \"buena\", \"cierre\", \"creo\", \"pulsera\", \"forma\", \"pl\\u00e1stico\", \"bonita\", \"tan\", \"nota\", \"bien\", \"queda\", \"si\", \"producto\", \"tiempo\", \"foto\", \"bastante\", \"compra\", \"aunque\", \"mejor\", \"perfectamente\", \"puedo\", \"mes\", \"jugando\", \"brillo\", \"pens\\u00e9\", \"perdido\", \"dorado\", \"rosa\", \"rompi\\u00f3\", \"grandes\", \"opinar\", \"rato\", \"sirve\", \"rat\\u00f3n\", \"costado\", \"unas\", \"mujer\", \"veo\", \"decir\", \"ped\\u00ed\", \"nunca\", \"enseguida\", \"\\u00fanico\", \"adecuado\", \"pocas\", \"mont\\u00f3n\", \"materiales\", \"devoluci\\u00f3n\", \"dise\\u00f1o\", \"encantado\", \"tama\\u00f1o\", \"mal\", \"bonitos\", \"menos\", \"perfecto\", \"lleg\\u00f3\", \"da\", \"puedes\", \"llego\", \"grande\", \"juego\", \"bastante\", \"todas\", \"color\", \"esperaba\", \"mano\", \"vez\", \"producto\", \"dos\", \"demasiado\"], \"Total\": [143.0, 115.0, 63.0, 117.0, 48.0, 65.0, 61.0, 52.0, 59.0, 50.0, 39.0, 36.0, 24.0, 21.0, 60.0, 29.0, 35.0, 34.0, 33.0, 25.0, 40.0, 52.0, 50.0, 29.0, 32.0, 19.0, 20.0, 14.0, 27.0, 30.0, 20.571338653564453, 17.76673698425293, 14.027018547058105, 16.831668853759766, 13.091996192932129, 12.15737247467041, 11.222439765930176, 10.287652015686035, 9.352700233459473, 8.417829513549805, 8.4177885055542, 8.417624473571777, 19.635921478271484, 10.287193298339844, 7.482946395874023, 7.482886791229248, 7.482856273651123, 7.4827880859375, 7.4826579093933105, 8.421524047851562, 6.547824859619141, 6.548076152801514, 52.35883331298828, 14.026082992553711, 5.613139629364014, 5.6132402420043945, 5.613100528717041, 5.613105773925781, 5.613083839416504, 8.41706657409668, 30.851350784301758, 40.19786071777344, 15.896212577819824, 14.9599609375, 11.221211433410645, 117.16639709472656, 23.371715545654297, 34.591766357421875, 20.569948196411133, 22.518054962158203, 35.525123596191406, 185.1457977294922, 31.782419204711914, 30.97132110595703, 33.652191162109375, 112.31652069091797, 22.574026107788086, 28.979673385620117, 104.92537689208984, 45.81893539428711, 59.425079345703125, 23.395462036132812, 38.39024353027344, 37.39561080932617, 48.65631866455078, 64.63632202148438, 22.448101043701172, 36.89986038208008, 60.850215911865234, 43.12607192993164, 63.68263244628906, 29.032888412475586, 25.28711700439453, 15.922307968139648, 14.985896110534668, 13.11270523071289, 11.23977279663086, 9.366930961608887, 8.430521011352539, 8.430401802062988, 7.494106769561768, 7.494073867797852, 7.4939446449279785, 6.557679653167725, 6.557531833648682, 6.557522773742676, 6.557436466217041, 6.557403564453125, 10.302278518676758, 29.96196937561035, 17.83888053894043, 32.83251953125, 34.769718170166016, 14.980520248413086, 8.428186416625977, 9.364672660827637, 7.491983890533447, 14.97835636138916, 7.514296054840088, 7.491786479949951, 13.107553482055664, 12.17062759399414, 33.92236328125, 21.529817581176758, 52.3992919921875, 20.5938663482666, 22.462995529174805, 29.946041107177734, 42.13637924194336, 19.6542911529541, 39.70751190185547, 34.800987243652344, 48.65631866455078, 104.92537689208984, 185.1457977294922, 19.654409408569336, 64.63632202148438, 39.45224380493164, 29.16265869140625, 61.72692108154297, 38.39024353027344, 21.5263729095459, 50.50273895263672, 59.425079345703125, 18.69746208190918, 14.958892822265625, 12.154836654663086, 9.350228309631348, 8.415891647338867, 8.415726661682129, 8.415855407714844, 48.61447525024414, 7.481197834014893, 6.546746253967285, 6.546800136566162, 6.546726703643799, 6.546698570251465, 6.546634197235107, 5.612102031707764, 5.6119842529296875, 5.611929893493652, 5.611921310424805, 5.611786842346191, 5.611863136291504, 5.611944198608398, 6.5468854904174805, 24.32253074645996, 12.153848648071289, 14.961267471313477, 11.243636131286621, 9.349942207336426, 8.415441513061523, 9.349618911743164, 7.481312274932861, 27.128896713256836, 15.89166259765625, 61.72692108154297, 60.850215911865234, 50.50273895263672, 46.75336456298828, 24.308856964111328, 28.1245059967041, 14.079351425170898, 65.40994262695312, 34.67839813232422, 23.43885040283203, 20.649738311767578, 25.24292755126953, 16.83089828491211, 33.71104049682617, 112.31652069091797, 117.16639709472656, 143.92013549804688, 185.1457977294922, 32.73148727416992, 50.45595932006836, 64.63632202148438, 115.858154296875, 34.591766357421875, 43.12607192993164, 12.148336410522461, 15.885058403015137, 9.34598159790039, 9.345726013183594, 13.082608222961426, 8.411900520324707, 8.41163444519043, 7.477703094482422, 6.543454170227051, 14.951000213623047, 6.543630599975586, 6.544220924377441, 5.609432220458984, 5.609389781951904, 5.609370708465576, 5.609302043914795, 5.609436988830566, 10.280035972595215, 20.561094284057617, 9.366646766662598, 8.413745880126953, 8.41234016418457, 5.609616279602051, 27.097444534301758, 143.92013549804688, 7.478132724761963, 10.284256935119629, 6.543753623962402, 6.543974876403809, 6.5437912940979, 115.858154296875, 24.336162567138672, 24.29680061340332, 50.45595932006836, 25.36600685119629, 65.40994262695312, 24.30023193359375, 14.960549354553223, 37.52759552001953, 14.955717086791992, 18.780790328979492, 26.171934127807617, 23.409671783447266, 14.025766372680664, 185.1457977294922, 35.53401565551758, 112.31652069091797, 104.92537689208984, 42.13637924194336, 52.3992919921875, 53.53673553466797, 33.71104049682617, 43.12607192993164, 35.525123596191406, 37.39561080932617, 21.951526641845703, 14.310644149780273, 7.624757289886475, 7.624664306640625, 6.669670104980469, 6.669632911682129, 6.669601917266846, 6.669431686401367, 9.52692985534668, 24.764469146728516, 5.714325904846191, 5.714123725891113, 9.514474868774414, 9.507270812988281, 5.7045183181762695, 8.556455612182617, 12.355796813964844, 8.553203582763672, 19.950092315673828, 14.246902465820312, 20.893531799316406, 10.445634841918945, 10.444844245910645, 6.645646095275879, 5.693541049957275, 5.695147514343262, 8.539190292358398, 9.484267234802246, 19.916950225830078, 14.220637321472168, 35.042171478271484, 36.89986038208008, 39.70751190185547, 24.580018997192383, 59.425079345703125, 43.329673767089844, 18.89470672607422, 14.193123817443848, 33.92236328125, 30.121723175048828, 117.16639709472656, 53.53673553466797, 17.92677116394043, 21.691938400268555, 34.800987243652344, 14.175204277038574, 26.35806655883789, 104.92537689208984, 39.45224380493164, 29.16265869140625], \"loglift\": [30.0, 29.0, 28.0, 27.0, 26.0, 25.0, 24.0, 23.0, 22.0, 21.0, 20.0, 19.0, 18.0, 17.0, 16.0, 15.0, 14.0, 13.0, 12.0, 11.0, 10.0, 9.0, 8.0, 7.0, 6.0, 5.0, 4.0, 3.0, 2.0, 1.0, 1.3449000120162964, 1.3389999866485596, 1.3260999917984009, 1.323799967765808, 1.3222999572753906, 1.3180999755859375, 1.311400055885315, 1.299399971961975, 1.298200011253357, 1.2884999513626099, 1.2883000373840332, 1.287600040435791, 1.2833000421524048, 1.2773000001907349, 1.2762000560760498, 1.2759000062942505, 1.2759000062942505, 1.2755999565124512, 1.273900032043457, 1.2653000354766846, 1.2591999769210815, 1.2591999769210815, 1.2568999528884888, 1.2410000562667847, 1.2380000352859497, 1.2378000020980835, 1.2374000549316406, 1.2352999448776245, 1.2338000535964966, 1.2131999731063843, 1.1986000537872314, 1.1664999723434448, 1.1640000343322754, 1.1669000387191772, 1.180400013923645, 0.9003999829292297, 1.093500018119812, 0.9362000226974487, 1.031599998474121, 1.0089000463485718, 0.8876000046730042, 0.4242999851703644, 0.8955000042915344, 0.8794999718666077, 0.8112000226974487, 0.3723999857902527, 0.9300000071525574, 0.8230999708175659, 0.2540999948978424, 0.567300021648407, 0.4171000123023987, 0.8741999864578247, 0.564300000667572, 0.5616000294685364, 0.3034000098705292, 0.08510000258684158, 0.8841999769210815, 0.4717000126838684, -0.012799999676644802, 0.2782000005245209, 1.5327999591827393, 1.5188000202178955, 1.5149999856948853, 1.4966000318527222, 1.4936000108718872, 1.4852999448776245, 1.4753999710083008, 1.4610999822616577, 1.451200008392334, 1.4510999917984009, 1.4392000436782837, 1.4390000104904175, 1.4386999607086182, 1.4234999418258667, 1.4228999614715576, 1.422700047492981, 1.4226000308990479, 1.4223999977111816, 1.4046000242233276, 1.3614000082015991, 1.3602999448776245, 1.3544000387191772, 1.3280999660491943, 1.3238999843597412, 1.3076000213623047, 1.3021999597549438, 1.2790000438690186, 1.2764999866485596, 1.2711999416351318, 1.2577999830245972, 1.2553000450134277, 1.2343000173568726, 1.1374000310897827, 1.17330002784729, 1.0298999547958374, 1.1655999422073364, 1.114300012588501, 1.0372999906539917, 0.9210000038146973, 1.0773999691009521, 0.8514999747276306, 0.8865000009536743, 0.7681000232696533, 0.4625999927520752, 0.06360000371932983, 1.0418000221252441, 0.40880000591278076, 0.6523000001907349, 0.8126000165939331, 0.32409998774528503, 0.6194999814033508, 0.9771000146865845, 0.21930000185966492, -0.013199999928474426, 1.5148999691009521, 1.5046000480651855, 1.4922000169754028, 1.4700000286102295, 1.4615999460220337, 1.4607000350952148, 1.4579999446868896, 1.4534000158309937, 1.4457999467849731, 1.4336999654769897, 1.4336999654769897, 1.433500051498413, 1.43340003490448, 1.4328999519348145, 1.4119000434875488, 1.4110000133514404, 1.410599946975708, 1.4105000495910645, 1.4103000164031982, 1.4103000164031982, 1.4081000089645386, 1.406000018119812, 1.402999997138977, 1.4002000093460083, 1.3969000577926636, 1.3756999969482422, 1.347100019454956, 1.309499979019165, 1.305400013923645, 1.3003000020980835, 1.2919000387191772, 1.2897000312805176, 1.1922999620437622, 1.1620999574661255, 1.0591000318527222, 1.0037000179290771, 1.1246999502182007, 1.094599962234497, 1.1607999801635742, 0.7071999907493591, 0.8762000203132629, 0.9962000250816345, 0.9905999898910522, 0.90420001745224, 1.0591000318527222, 0.7598000168800354, 0.2290000021457672, 0.18299999833106995, 0.07989999651908875, -0.061000000685453415, 0.6895999908447266, 0.320499986410141, 0.10490000247955322, -0.32409998774528503, 0.48750001192092896, 0.20999999344348907, 1.5414999723434448, 1.5358999967575073, 1.5214999914169312, 1.5206999778747559, 1.5125999450683594, 1.5118000507354736, 1.5111000537872314, 1.499400019645691, 1.482800006866455, 1.4793000221252441, 1.4779000282287598, 1.4773000478744507, 1.461300015449524, 1.4611999988555908, 1.4609999656677246, 1.4608999490737915, 1.4606000185012817, 1.4581999778747559, 1.4466999769210815, 1.4021999835968018, 1.3819999694824219, 1.372499942779541, 1.3438999652862549, 1.3394999504089355, 1.3246999979019165, 1.3214999437332153, 1.3116999864578247, 1.3076000213623047, 1.3040000200271606, 1.3034000396728516, 1.2848000526428223, 1.2785999774932861, 1.2773000001907349, 1.2462999820709229, 1.1904000043869019, 1.0321999788284302, 1.173699975013733, 1.2157000303268433, 0.9538999795913696, 1.2015999555587769, 1.124899983406067, 0.97079998254776, 0.9797999858856201, 1.1708999872207642, -0.0568000003695488, 0.6988000273704529, 0.08889999985694885, 0.03539999946951866, 0.5336999893188477, 0.2540000081062317, 0.21459999680519104, 0.46950000524520874, 0.2500999867916107, 0.40400001406669617, 0.3319999873638153, 2.0513999462127686, 2.0325000286102295, 1.9829000234603882, 1.982699990272522, 1.9673000574111938, 1.9672000408172607, 1.9671000242233276, 1.966599941253662, 1.9622000455856323, 1.9495999813079834, 1.9452999830245972, 1.944700002670288, 1.891800045967102, 1.854699969291687, 1.8514000177383423, 1.8502999544143677, 1.8319000005722046, 1.82669997215271, 1.8040000200271606, 1.7984000444412231, 1.787500023841858, 1.784600019454956, 1.7710000276565552, 1.7651000022888184, 1.7354999780654907, 1.7338999509811401, 1.7207000255584717, 1.6944999694824219, 1.6715999841690063, 1.669600009918213, 1.5592000484466553, 1.5118000507354736, 1.3651000261306763, 1.4484000205993652, 1.1758999824523926, 1.0351999998092651, 1.3955999612808228, 1.5195000171661377, 0.9416000247001648, 0.9621000289916992, 0.014299999922513962, 0.5385000109672546, 1.2762999534606934, 1.1325000524520874, 0.6868000030517578, 1.423699975013733, 0.8561000227928162, -0.4429999887943268, 0.46880000829696655, 0.758899986743927], \"logprob\": [30.0, 29.0, 28.0, 27.0, 26.0, 25.0, 24.0, 23.0, 22.0, 21.0, 20.0, 19.0, 18.0, 17.0, 16.0, 15.0, 14.0, 13.0, 12.0, 11.0, 10.0, 9.0, 8.0, 7.0, 6.0, 5.0, 4.0, 3.0, 2.0, 1.0, -4.563000202178955, -4.7154998779296875, -4.964799880981445, -4.784800052642822, -5.037499904632568, -5.115799903869629, -5.202499866485596, -5.301499843597412, -5.397900104522705, -5.513000011444092, -5.5131001472473145, -5.513800144195557, -4.67110013961792, -5.323599815368652, -5.64300012588501, -5.6433000564575195, -5.6433000564575195, -5.643599987030029, -5.645299911499023, -5.535699844360352, -5.793499946594238, -5.793499946594238, -3.7167999744415283, -5.049900054931641, -5.968699932098389, -5.968900203704834, -5.969399929046631, -5.971399784088135, -5.972899913787842, -5.588399887084961, -4.303999900817871, -4.071499824523926, -5.001699924468994, -5.059599876403809, -5.333600044250488, -3.2678000926971436, -4.686800003051758, -4.452000141143799, -4.876399993896484, -4.808599948883057, -4.473999977111816, -3.286400079727173, -4.577400207519531, -4.619200229644775, -4.604599952697754, -3.838099956512451, -4.885000228881836, -4.742099761962891, -4.024499893188477, -4.53980016708374, -4.429999828338623, -4.90500020980835, -4.719699859619141, -4.748600006103516, -4.74370002746582, -4.677999973297119, -4.936399936676025, -4.851900100708008, -4.83620023727417, -4.889500141143799, -3.2451000213623047, -4.044600009918213, -4.186500072479248, -4.667399883270264, -4.731100082397461, -4.873000144958496, -5.036900043487549, -5.23360013961792, -5.348800182342529, -5.348800182342529, -5.478499889373779, -5.478700160980225, -5.479100227355957, -5.627699851989746, -5.628300189971924, -5.628499984741211, -5.628600120544434, -5.628900051116943, -5.194900035858154, -4.170499801635742, -4.690100193023682, -4.085999965667725, -4.054999828338623, -4.901100158691406, -5.492700099945068, -5.392600059509277, -5.638999938964844, -4.948699951171875, -5.643799781799316, -5.660200119018555, -5.103300094604492, -5.198500156402588, -4.270400047302246, -4.689000129699707, -3.943000078201294, -4.741300106048584, -4.705599784851074, -4.495100021362305, -4.269899845123291, -4.876100063323975, -4.398799896240234, -4.495699882507324, -4.278900146484375, -3.8159000873565674, -3.6470999717712402, -4.9116997718811035, -4.354300022125244, -4.604400157928467, -4.746300220489502, -4.485000133514404, -4.6645002365112305, -4.88539981842041, -4.790500164031982, -4.860300064086914, -4.488500118255615, -4.72189998626709, -4.94189977645874, -5.226399898529053, -5.340099811553955, -5.341100215911865, -5.343699932098389, -3.594399929046631, -5.473599910736084, -5.619100093841553, -5.619100093841553, -5.6194000244140625, -5.6194000244140625, -5.619999885559082, -5.795000076293945, -5.795899868011475, -5.796299934387207, -5.79640007019043, -5.7967000007629395, -5.7967000007629395, -5.798799991607666, -5.6468000411987305, -4.337399959564209, -5.033999919891357, -4.829400062561035, -5.136300086975098, -5.349299907684326, -5.492199897766113, -5.39109992980957, -5.619100093841553, -4.339399814605713, -4.876399993896484, -3.61680006980896, -3.66129994392395, -3.950700044631958, -4.083199977874756, -4.616300106048584, -4.500500202178955, -5.126299858093262, -4.043900012969971, -4.509500026702881, -4.781300067901611, -4.91349983215332, -4.798999786376953, -5.049499988555908, -4.654200077056885, -3.9814999103546143, -3.985300064086914, -3.882699966430664, -3.771699905395508, -4.753799915313721, -4.690299987792969, -4.658199787139893, -4.503600120544434, -4.900700092315674, -4.957699775695801, -4.893099784851074, -4.630499839782715, -5.175300121307373, -5.176199913024902, -4.847899913787842, -5.29040002822876, -5.291100025177002, -5.420499801635742, -5.5706000328063965, -4.747700214385986, -5.575500011444092, -5.576000213623047, -5.745999813079834, -5.746099948883057, -5.746399879455566, -5.746500015258789, -5.746799945831299, -5.143400192260742, -4.461699962615967, -5.292399883270264, -5.420000076293945, -5.429599761962891, -5.863500118255615, -4.292799949645996, -2.6379001140594482, -5.598299980163574, -5.2895002365112305, -5.745699882507324, -5.749199867248535, -5.749899864196777, -2.8945999145507812, -4.46120023727417, -4.464099884033203, -3.764400005340576, -4.507999897003174, -3.7190001010894775, -4.567599773406982, -5.010700225830078, -4.352799892425537, -5.025100231170654, -4.874100208282471, -4.696400165557861, -4.798900127410889, -5.119999885559082, -3.7674999237060547, -4.662499904632568, -4.121600151062012, -4.243199825286865, -4.657199859619141, -4.718900203704834, -4.736800193786621, -4.944499969482422, -4.917600154876709, -4.957499980926514, -4.9781999588012695, -3.7915000915527344, -4.23829984664917, -4.917500019073486, -4.917699813842773, -5.066999912261963, -5.0671000480651855, -5.067200183868408, -5.067699909210205, -4.7154998779296875, -3.772900104522705, -5.243599891662598, -5.244100093841553, -4.787199974060059, -4.825099945068359, -5.339200019836426, -4.934899806976318, -4.585700035095215, -4.958799839019775, -4.1346001625061035, -4.476900100708008, -4.104899883270264, -4.801000118255615, -4.814700126647949, -5.27269983291626, -5.456999778747559, -5.4583001136779785, -5.066500186920166, -4.98769998550415, -4.268599987030029, -4.607500076293945, -3.8160998821258545, -3.811800003051758, -3.885200023651123, -4.281499862670898, -3.6712000370025635, -4.127799987792969, -4.597400188446045, -4.759500026702881, -4.46619987487793, -4.564499855041504, -4.153900146484375, -4.413000106811523, -4.769199848175049, -4.722400188446045, -4.695400238037109, -4.856599807739258, -4.803999900817871, -4.72160005569458, -4.787899971008301, -4.800099849700928]}, \"token.table\": {\"Topic\": [4, 3, 4, 1, 3, 5, 1, 2, 3, 4, 1, 2, 3, 5, 1, 2, 1, 2, 4, 1, 4, 1, 4, 1, 3, 4, 5, 1, 4, 4, 1, 2, 3, 4, 5, 1, 2, 3, 4, 2, 5, 2, 2, 3, 4, 2, 2, 5, 5, 1, 3, 5, 3, 4, 1, 4, 5, 1, 4, 5, 2, 4, 5, 1, 2, 3, 2, 3, 4, 5, 3, 1, 3, 3, 4, 1, 3, 1, 4, 2, 3, 4, 2, 2, 2, 1, 2, 3, 5, 2, 3, 4, 5, 3, 4, 1, 3, 1, 3, 1, 4, 3, 5, 2, 4, 1, 4, 1, 1, 4, 5, 1, 4, 3, 5, 2, 4, 5, 4, 1, 1, 5, 2, 1, 2, 4, 1, 3, 2, 3, 5, 5, 1, 2, 3, 4, 5, 2, 3, 2, 2, 3, 1, 1, 3, 5, 4, 5, 2, 3, 4, 5, 3, 1, 3, 1, 1, 2, 3, 5, 3, 4, 4, 2, 3, 1, 3, 4, 4, 4, 2, 2, 2, 1, 2, 4, 1, 2, 4, 2, 5, 1, 3, 1, 1, 4, 1, 2, 3, 3, 1, 3, 5, 1, 5, 1, 1, 2, 3, 1, 2, 3, 4, 3, 4, 5, 3, 4, 2, 4, 2, 1, 2, 1, 1, 1, 1, 3, 5, 1, 4, 3, 5, 1, 3, 4, 4, 4, 3, 1, 2, 3, 3, 4, 2, 5, 1, 2, 3, 4, 5, 1, 4, 5, 3, 4, 5, 1, 3, 3, 4, 5, 2, 3, 1, 2, 3, 4, 5, 1, 5, 2, 1, 2, 4, 1, 3, 4, 5, 5, 3, 4, 1, 2, 5, 1, 3, 4, 3, 5, 3, 1, 1, 4, 1, 2, 4, 1, 4, 5, 1, 5, 3, 1, 3, 4, 4, 1, 3, 5, 1, 2, 4, 5, 3, 1, 2, 5, 1, 1, 3, 5, 2, 4, 4, 5, 1, 4, 2, 5, 1, 2, 4, 1, 2, 5, 3, 1, 2, 3, 4, 1, 2, 5, 1, 2, 3, 4, 2, 5, 1, 2, 1, 3, 4, 5, 3, 5, 4, 5, 1, 3, 1, 3, 4, 3, 1, 1, 2, 3, 1, 2, 3, 4, 5, 1, 3, 4, 3, 4, 1, 3, 5, 5, 4, 3, 4, 5, 1, 4, 1, 2, 3, 4, 1, 2, 5, 3, 5, 5, 4, 5, 2, 3, 2, 3, 5, 1, 4, 2, 3, 3, 4, 3, 5, 5, 1, 2, 4, 3, 1, 2, 3, 1, 2, 2, 1, 2, 3, 4, 5, 1, 2, 3, 4, 5, 3, 1, 5, 3, 1, 1, 2, 3, 4, 1, 1, 2, 1, 2, 4, 5, 2, 4, 5, 3, 2, 3, 4, 5, 2, 4, 5, 3, 1, 4, 3, 5, 1, 1, 3, 4, 5, 2, 4, 3, 4, 1, 2, 4, 4, 2, 3, 2, 3, 3, 5, 2, 4, 1, 4, 1, 2, 5, 4, 1, 2, 3, 5, 1, 1, 5], \"Freq\": [0.9361163377761841, 0.15281660854816437, 0.7640830278396606, 0.8907724618911743, 0.1504744589328766, 0.7523722648620605, 0.11884517222642899, 0.11884517222642899, 0.5149957537651062, 0.23769034445285797, 0.2595275640487671, 0.11534558236598969, 0.5190551280975342, 0.11534558236598969, 0.10678429901599884, 0.7474901080131531, 0.08216503262519836, 0.7394852638244629, 0.08216503262519836, 0.07643735408782959, 0.9172483086585999, 0.7960622906684875, 0.1741386204957962, 0.32462960481643677, 0.2550661265850067, 0.2550661265850067, 0.1391269713640213, 0.8021411299705505, 0.13369019329547882, 0.8913558125495911, 0.14943011105060577, 0.22414515912532806, 0.16810886561870575, 0.24282391369342804, 0.2054663896560669, 0.38348156213760376, 0.22684824466705322, 0.19984249770641327, 0.18904021382331848, 0.7984780073165894, 0.1330796629190445, 0.9149796366691589, 0.11462660878896713, 0.3438798189163208, 0.5349241495132446, 0.9892807006835938, 0.5036830306053162, 0.4784988760948181, 0.9180731773376465, 0.246506929397583, 0.6737856268882751, 0.06573518365621567, 0.42806947231292725, 0.56566321849823, 0.07884567975997925, 0.6701882481575012, 0.27595987915992737, 0.6201817989349365, 0.044298700988292694, 0.31009089946746826, 0.8223553895950317, 0.06091521680355072, 0.09137282520532608, 0.25666603446006775, 0.14972184598445892, 0.5774985551834106, 0.9489330649375916, 0.2292938381433487, 0.7573645114898682, 0.013896595686674118, 0.9625433683395386, 0.8910718560218811, 0.9505825638771057, 0.8227846622467041, 0.08227846771478653, 0.8178048729896545, 0.18872420489788055, 0.1337232142686844, 0.8023393154144287, 0.0823037400841713, 0.24691122770309448, 0.6584299206733704, 0.914996325969696, 0.9886457324028015, 0.9420744776725769, 0.1844003051519394, 0.3688006103038788, 0.04610007628798485, 0.3688006103038788, 0.14831936359405518, 0.4449580907821655, 0.32630258798599243, 0.08899161964654922, 0.22142308950424194, 0.7749808430671692, 0.9622889161109924, 0.8909696936607361, 0.6806045174598694, 0.29168766736984253, 0.15281231701374054, 0.7640616297721863, 0.17529964447021484, 0.8764982223510742, 0.2673698663711548, 0.668424665927887, 0.24694609642028809, 0.6996806263923645, 0.93549644947052, 0.26462438702583313, 0.2116995006799698, 0.4763238728046417, 0.8316436409950256, 0.11880623549222946, 0.20050032436847687, 0.7518762350082397, 0.4800659716129303, 0.24003298580646515, 0.27432340383529663, 0.9169221520423889, 0.9163348078727722, 0.31631332635879517, 0.6326266527175903, 0.8896976709365845, 0.06675335764884949, 0.8010402917861938, 0.06675335764884949, 0.13366639614105225, 0.8019983172416687, 0.20083396136760712, 0.10041698068380356, 0.6527103781700134, 0.8996039032936096, 0.07604130357503891, 0.4055536091327667, 0.1774297058582306, 0.12673550844192505, 0.20277680456638336, 0.08228001743555069, 0.9050801992416382, 0.9608269929885864, 0.9340673089027405, 0.9505866765975952, 0.9354801774024963, 0.9503868818283081, 0.28128135204315186, 0.6328830122947693, 0.1914675384759903, 0.7658701539039612, 0.2559852600097656, 0.554634690284729, 0.04266420751810074, 0.1279926300048828, 0.9358981251716614, 0.9354716539382935, 0.8909568190574646, 0.9568442702293396, 0.05746963247656822, 0.5172266960144043, 0.17240890860557556, 0.25861334800720215, 0.855620265007019, 0.10695253312587738, 0.9630070328712463, 0.7629188895225525, 0.22887566685676575, 0.9165905714035034, 0.17826531827449799, 0.7130612730979919, 0.9054737687110901, 0.9168394804000854, 0.9340875148773193, 0.9342117309570312, 0.948946475982666, 0.20059219002723694, 0.06686406582593918, 0.6686406135559082, 0.13358959555625916, 0.5916110277175903, 0.2671791911125183, 0.8408599495887756, 0.11211466044187546, 0.6359894871711731, 0.34690335392951965, 0.9267828464508057, 0.1188729852437973, 0.8321108818054199, 0.13934163749217987, 0.6967082023620605, 0.1857888549566269, 0.9626975059509277, 0.4647808372974396, 0.19919179379940033, 0.33198630809783936, 0.12114129960536957, 0.8883695602416992, 0.9354678392410278, 0.6236607432365417, 0.22273598611354828, 0.13364160060882568, 0.09165486693382263, 0.2749646008014679, 0.427722692489624, 0.18330973386764526, 0.5811211466789246, 0.19370704889297485, 0.19370704889297485, 0.8318042755126953, 0.11882917582988739, 0.19447200000286102, 0.7778880000114441, 0.9149783849716187, 0.8907759189605713, 0.9151429533958435, 0.8907511234283447, 0.8907670974731445, 0.9503684043884277, 0.6145106554031372, 0.2560461163520813, 0.12802305817604065, 0.7701616883277893, 0.2139338105916977, 0.8909317851066589, 0.9180620312690735, 0.5645992159843445, 0.2080102264881134, 0.2080102264881134, 0.8913655877113342, 0.9510636925697327, 0.8909604549407959, 0.11880543828010559, 0.25741177797317505, 0.6138281226158142, 0.7551129460334778, 0.18877823650836945, 0.6780188083648682, 0.3242698609828949, 0.16155210137367249, 0.16155210137367249, 0.16155210137367249, 0.16155210137367249, 0.34618309140205383, 0.40650561451911926, 0.027100373059511185, 0.5691078305244446, 0.16436445713043213, 0.7396400570869446, 0.08218222856521606, 0.8785527944564819, 0.09549487382173538, 0.35272860527038574, 0.14109143614768982, 0.49382004141807556, 0.8305464386940002, 0.11864949017763138, 0.2784811854362488, 0.3248947262763977, 0.23206765949726105, 0.09282706677913666, 0.07735588401556015, 0.23421424627304077, 0.7026427388191223, 0.9340713620185852, 0.6192800402641296, 0.08444727957248688, 0.3096400201320648, 0.32546761631965637, 0.040683452039957047, 0.08136690407991409, 0.5288848876953125, 0.9782927632331848, 0.7486936450004578, 0.10695622861385345, 0.8312034606933594, 0.17558807134628296, 0.7023522853851318, 0.17824360728263855, 0.5941453576087952, 0.17824360728263855, 0.16186735033988953, 0.8093367218971252, 0.9164662957191467, 0.9505890607833862, 0.09727592766284943, 0.8754833340644836, 0.07129735499620438, 0.2851894199848175, 0.6416761875152588, 0.14358510076999664, 0.09572340548038483, 0.7179255485534668, 0.9162996411323547, 0.8749938607215881, 0.8909504413604736, 0.6292787194252014, 0.12585574388504028, 0.25171148777008057, 0.9629806876182556, 0.07102599740028381, 0.6392340064048767, 0.21307799220085144, 0.34938934445381165, 0.45215094089508057, 0.18497084081172943, 0.020552314817905426, 0.935679018497467, 0.6134707927703857, 0.22601553797721863, 0.1614396721124649, 0.874835193157196, 0.08222828805446625, 0.8633970022201538, 0.041114144027233124, 0.09727108478546143, 0.8754397630691528, 0.21057209372520447, 0.772097647190094, 0.8427507877349854, 0.1620674580335617, 0.9644234776496887, 0.8995947241783142, 0.20036037266254425, 0.601081132888794, 0.16696697473526, 0.4180918037891388, 0.5574557185173035, 0.8995997309684753, 0.9164924621582031, 0.4278576970100403, 0.10696442425251007, 0.1604466438293457, 0.2674110531806946, 0.38704198598861694, 0.2187628597021103, 0.4038698971271515, 0.133479505777359, 0.8008770942687988, 0.9165014624595642, 0.891355037689209, 0.8052984476089478, 0.17256395518779755, 0.9354603886604309, 0.9149577617645264, 0.053245894610881805, 0.10649178922176361, 0.638950765132904, 0.21298357844352722, 0.1756376177072525, 0.70255047082901, 0.8540943264961243, 0.10676179081201553, 0.9166873097419739, 0.05092707276344299, 0.12083741277456284, 0.15536239743232727, 0.7250245213508606, 0.9164782762527466, 0.9503637552261353, 0.28796088695526123, 0.041137270629405975, 0.6581963300704956, 0.3240398168563843, 0.34310099482536316, 0.04765291512012482, 0.20967282354831696, 0.07624465972185135, 0.5866180658340454, 0.24154861271381378, 0.17253471910953522, 0.2972889542579651, 0.6936742663383484, 0.28182661533355713, 0.07045665383338928, 0.5636532306671143, 0.9566532969474792, 0.8913625478744507, 0.2664705812931061, 0.5329411625862122, 0.18652939796447754, 0.06295224279165268, 0.9442836046218872, 0.2532784342765808, 0.28142049908638, 0.0562840960919857, 0.3939886689186096, 0.7105409502983093, 0.1332264244556427, 0.17763523757457733, 0.8004527688026428, 0.08893919736146927, 0.8750247955322266, 0.10518265515565872, 0.8414612412452698, 0.13367851078510284, 0.8689103126525879, 0.24889326095581055, 0.6400112509727478, 0.10666853934526443, 0.06688515841960907, 0.8695070147514343, 0.29160696268081665, 0.6966166496276855, 0.9506012201309204, 0.9510335922241211, 0.10496561229228973, 0.8397248983383179, 0.8996268510818481, 0.20351789891719818, 0.6105536818504333, 0.15263842046260834, 0.9164857864379883, 0.1456744372844696, 0.6798140406608582, 0.1456744372844696, 0.09706590324640274, 0.8735931515693665, 0.9149917364120483, 0.36503979563713074, 0.08903409540653229, 0.26710230112075806, 0.22258524596691132, 0.06232386827468872, 0.03686106577515602, 0.07372213155031204, 0.774082362651825, 0.07372213155031204, 0.03686106577515602, 0.8909817934036255, 0.1051030158996582, 0.8408241271972656, 0.916488528251648, 0.8748741745948792, 0.43650075793266296, 0.17460030317306519, 0.21825037896633148, 0.15277525782585144, 0.9722265005111694, 0.13350257277488708, 0.8343910574913025, 0.05707408860325813, 0.25683340430259705, 0.08561113476753235, 0.599277913570404, 0.38445648550987244, 0.5553260445594788, 0.08543477207422256, 0.8909590840339661, 0.5458466410636902, 0.07119738310575485, 0.33225446939468384, 0.047464922070503235, 0.0557824932038784, 0.4462599456310272, 0.4462599456310272, 0.9049895405769348, 0.8020524382591248, 0.08911693841218948, 0.11687082052230835, 0.8180957436561584, 0.8907732963562012, 0.5984066724777222, 0.04274333268404007, 0.2992033362388611, 0.04274333268404007, 0.1188531294465065, 0.8319718837738037, 0.1528174877166748, 0.764087438583374, 0.22258830070495605, 0.6677649021148682, 0.13355298340320587, 0.9169468879699707, 0.610550045967102, 0.3561541736125946, 0.8008559942245483, 0.13347598910331726, 0.1169152557849884, 0.8184068202972412, 0.7343930006027222, 0.20028899610042572, 0.8555489182472229, 0.07129574567079544, 0.2655733525753021, 0.4173295497894287, 0.3035123944282532, 0.8913764953613281, 0.44282084703445435, 0.3907242715358734, 0.10419313609600067, 0.052096568048000336, 0.9048007726669312, 0.1914820373058319, 0.7659281492233276], \"Term\": [\"acabados\", \"aceptable\", \"aceptable\", \"adapta\", \"adecuado\", \"adecuado\", \"ahora\", \"ahora\", \"ahora\", \"ahora\", \"amazon\", \"amazon\", \"amazon\", \"amazon\", \"anillo\", \"anillo\", \"aparece\", \"aparece\", \"aparece\", \"aspecto\", \"aspecto\", \"as\\u00ed\", \"as\\u00ed\", \"aunque\", \"aunque\", \"aunque\", \"aunque\", \"a\\u00fan\", \"a\\u00fan\", \"bajo\", \"bastante\", \"bastante\", \"bastante\", \"bastante\", \"bastante\", \"bien\", \"bien\", \"bien\", \"bien\", \"bolsa\", \"bolsa\", \"bolsita\", \"bonita\", \"bonita\", \"bonita\", \"bonito\", \"bonitos\", \"bonitos\", \"brillo\", \"buen\", \"buen\", \"buen\", \"buena\", \"buena\", \"bueno\", \"bueno\", \"bueno\", \"cable\", \"cable\", \"cable\", \"cadena\", \"cadena\", \"cadena\", \"caja\", \"caja\", \"caja\", \"cajita\", \"calidad\", \"calidad\", \"calidad\", \"cambiar\", \"cargador\", \"cargar\", \"casa\", \"casa\", \"caso\", \"caso\", \"cierra\", \"cierra\", \"cierre\", \"cierre\", \"cierre\", \"claro\", \"colgante\", \"collar\", \"color\", \"color\", \"color\", \"color\", \"compra\", \"compra\", \"compra\", \"compra\", \"compr\\u00e9\", \"compr\\u00e9\", \"conectar\", \"conjunto\", \"consola\", \"consola\", \"corta\", \"corta\", \"costado\", \"costado\", \"creo\", \"creo\", \"cumple\", \"cumple\", \"c\\u00f3modos\", \"da\", \"da\", \"da\", \"deber\\u00eda\", \"deber\\u00eda\", \"decir\", \"decir\", \"demasiado\", \"demasiado\", \"demasiado\", \"desear\", \"detalle\", \"devoluci\\u00f3n\", \"devoluci\\u00f3n\", \"devolver\", \"dia\", \"dia\", \"dia\", \"dicen\", \"dicen\", \"dise\\u00f1o\", \"dise\\u00f1o\", \"dise\\u00f1o\", \"dorado\", \"dos\", \"dos\", \"dos\", \"dos\", \"dos\", \"d\\u00eda\", \"d\\u00eda\", \"elegante\", \"elegantes\", \"embalaje\", \"encajan\", \"encanta\", \"encantado\", \"encantado\", \"enseguida\", \"enseguida\", \"entrega\", \"entrega\", \"entrega\", \"entrega\", \"entregado\", \"entretenido\", \"enviaron\", \"espa\\u00f1ol\", \"esperaba\", \"esperaba\", \"esperaba\", \"esperaba\", \"esperando\", \"esperando\", \"esperar\", \"espero\", \"espero\", \"excelente\", \"excesivamente\", \"excesivamente\", \"expectativas\", \"fan\", \"fecha\", \"fina\", \"fino\", \"forma\", \"forma\", \"forma\", \"foto\", \"foto\", \"foto\", \"fotos\", \"fotos\", \"funciona\", \"funciona\", \"funda\", \"general\", \"general\", \"gracias\", \"gracias\", \"gracias\", \"gran\", \"grande\", \"grande\", \"grande\", \"grandes\", \"grandes\", \"gr\\u00e1ficos\", \"gusta\", \"gusta\", \"gusta\", \"gustado\", \"gustado\", \"gustado\", \"gustado\", \"gusto\", \"gusto\", \"gusto\", \"haber\", \"haber\", \"hecho\", \"hecho\", \"hola\", \"igualmente\", \"imagen\", \"ingles\", \"ingl\\u00e9s\", \"italiano\", \"juego\", \"juego\", \"juego\", \"juegos\", \"juegos\", \"jugabilidad\", \"jugando\", \"jugar\", \"jugar\", \"jugar\", \"junto\", \"lado\", \"largo\", \"llegado\", \"llegado\", \"llegado\", \"llegar\", \"llegar\", \"llego\", \"llego\", \"lleg\\u00f3\", \"lleg\\u00f3\", \"lleg\\u00f3\", \"lleg\\u00f3\", \"lleg\\u00f3\", \"mal\", \"mal\", \"mal\", \"mala\", \"mala\", \"mala\", \"mando\", \"mando\", \"mano\", \"mano\", \"mano\", \"marca\", \"marca\", \"mas\", \"mas\", \"mas\", \"mas\", \"mas\", \"materiales\", \"materiales\", \"medida\", \"mejor\", \"mejor\", \"mejor\", \"menos\", \"menos\", \"menos\", \"menos\", \"mes\", \"misma\", \"misma\", \"modo\", \"mont\\u00f3n\", \"mont\\u00f3n\", \"muchas\", \"muchas\", \"muchas\", \"mujer\", \"mujer\", \"ningun\", \"nintendo\", \"ni\\u00f1as\", \"ni\\u00f1as\", \"nota\", \"nota\", \"nota\", \"nunca\", \"nunca\", \"nunca\", \"one\", \"opinar\", \"opini\\u00f3n\", \"original\", \"original\", \"original\", \"pandora\", \"paquete\", \"paquete\", \"paquete\", \"parece\", \"parece\", \"parece\", \"parece\", \"parecido\", \"parte\", \"parte\", \"parte\", \"pc\", \"pedido\", \"pedido\", \"pedido\", \"pedir\", \"pedir\", \"ped\\u00ed\", \"ped\\u00ed\", \"pena\", \"pena\", \"pendientes\", \"pens\\u00e9\", \"peque\\u00f1o\", \"peque\\u00f1o\", \"peque\\u00f1o\", \"peque\\u00f1os\", \"peque\\u00f1os\", \"perdido\", \"perdi\\u00f3\", \"perfectamente\", \"perfectamente\", \"perfectamente\", \"perfectamente\", \"perfecto\", \"perfecto\", \"perfecto\", \"pesan\", \"pesan\", \"piedras\", \"piel\", \"plata\", \"plata\", \"play\", \"plazo\", \"pl\\u00e1stico\", \"pl\\u00e1stico\", \"pl\\u00e1stico\", \"pl\\u00e1stico\", \"pocas\", \"pocas\", \"poder\", \"poder\", \"poner\", \"poner\", \"precio\", \"precio\", \"precio\", \"prime\", \"pro\", \"problema\", \"problema\", \"problema\", \"producto\", \"producto\", \"producto\", \"producto\", \"producto\", \"ps\", \"ps\", \"ps\", \"puede\", \"puede\", \"puedes\", \"puedes\", \"puedes\", \"puedo\", \"puesta\", \"pulsera\", \"pulsera\", \"pulsera\", \"q\", \"q\", \"queda\", \"queda\", \"queda\", \"queda\", \"quedan\", \"quedan\", \"quedan\", \"rapido\", \"rapido\", \"rato\", \"rat\\u00f3n\", \"rat\\u00f3n\", \"recibido\", \"recibido\", \"recomiendo\", \"recomiendo\", \"recomiendo\", \"regalar\", \"regalar\", \"regalo\", \"regalo\", \"relaci\\u00f3n\", \"resulta\", \"rompi\\u00f3\", \"rompi\\u00f3\", \"rosa\", \"roto\", \"roto\", \"roto\", \"ruido\", \"r\\u00e1pido\", \"r\\u00e1pido\", \"r\\u00e1pido\", \"semana\", \"semana\", \"semanas\", \"si\", \"si\", \"si\", \"si\", \"si\", \"sido\", \"sido\", \"sido\", \"sido\", \"sido\", \"simplemente\", \"sirve\", \"sirve\", \"sistema\", \"sitio\", \"solo\", \"solo\", \"solo\", \"solo\", \"switch\", \"tal\", \"tal\", \"tama\\u00f1o\", \"tama\\u00f1o\", \"tama\\u00f1o\", \"tama\\u00f1o\", \"tan\", \"tan\", \"tan\", \"tenia\", \"tiempo\", \"tiempo\", \"tiempo\", \"tiempo\", \"todas\", \"todas\", \"todas\", \"todav\\u00eda\", \"totalmente\", \"totalmente\", \"unas\", \"unas\", \"usado\", \"uso\", \"uso\", \"uso\", \"uso\", \"utilizar\", \"utilizar\", \"valen\", \"valen\", \"ve\", \"ve\", \"ve\", \"ven\", \"vendedor\", \"vendedor\", \"venia\", \"venia\", \"veo\", \"veo\", \"ver\", \"ver\", \"versi\\u00f3n\", \"versi\\u00f3n\", \"vez\", \"vez\", \"vez\", \"videojuegos\", \"viene\", \"viene\", \"viene\", \"viene\", \"xbox\", \"\\u00fanico\", \"\\u00fanico\"]}, \"R\": 30, \"lambda.step\": 0.01, \"plot.opts\": {\"xlab\": \"PC1\", \"ylab\": \"PC2\"}, \"topic.order\": [1, 5, 4, 3, 2]};\n",
       "\n",
       "function LDAvis_load_lib(url, callback){\n",
       "  var s = document.createElement('script');\n",
       "  s.src = url;\n",
       "  s.async = true;\n",
       "  s.onreadystatechange = s.onload = callback;\n",
       "  s.onerror = function(){console.warn(\"failed to load library \" + url);};\n",
       "  document.getElementsByTagName(\"head\")[0].appendChild(s);\n",
       "}\n",
       "\n",
       "if(typeof(LDAvis) !== \"undefined\"){\n",
       "   // already loaded: just create the visualization\n",
       "   !function(LDAvis){\n",
       "       new LDAvis(\"#\" + \"ldavis_el697550521959201532622971\", ldavis_el697550521959201532622971_data);\n",
       "   }(LDAvis);\n",
       "}else if(typeof define === \"function\" && define.amd){\n",
       "   // require.js is available: use it to load d3/LDAvis\n",
       "   require.config({paths: {d3: \"https://cdnjs.cloudflare.com/ajax/libs/d3/3.5.5/d3.min\"}});\n",
       "   require([\"d3\"], function(d3){\n",
       "      window.d3 = d3;\n",
       "      LDAvis_load_lib(\"https://cdn.rawgit.com/bmabey/pyLDAvis/files/ldavis.v1.0.0.js\", function(){\n",
       "        new LDAvis(\"#\" + \"ldavis_el697550521959201532622971\", ldavis_el697550521959201532622971_data);\n",
       "      });\n",
       "    });\n",
       "}else{\n",
       "    // require.js not available: dynamically load d3 & LDAvis\n",
       "    LDAvis_load_lib(\"https://cdnjs.cloudflare.com/ajax/libs/d3/3.5.5/d3.min.js\", function(){\n",
       "         LDAvis_load_lib(\"https://cdn.rawgit.com/bmabey/pyLDAvis/files/ldavis.v1.0.0.js\", function(){\n",
       "                 new LDAvis(\"#\" + \"ldavis_el697550521959201532622971\", ldavis_el697550521959201532622971_data);\n",
       "            })\n",
       "         });\n",
       "}\n",
       "</script>"
      ],
      "text/plain": [
       "<IPython.core.display.HTML object>"
      ]
     },
     "execution_count": 64,
     "metadata": {},
     "output_type": "execute_result"
    }
   ],
   "source": [
    "pyLDAvis.display(display_list[3])"
   ]
  },
  {
   "cell_type": "markdown",
   "metadata": {},
   "source": [
    "Entre más temas quiero extraer se empiezan a cruzar las burbujas. Algo esperado."
   ]
  }
 ],
 "metadata": {
  "kernelspec": {
   "display_name": "Python 3",
   "language": "python",
   "name": "python3"
  },
  "language_info": {
   "codemirror_mode": {
    "name": "ipython",
    "version": 3
   },
   "file_extension": ".py",
   "mimetype": "text/x-python",
   "name": "python",
   "nbconvert_exporter": "python",
   "pygments_lexer": "ipython3",
   "version": "3.7.4"
  }
 },
 "nbformat": 4,
 "nbformat_minor": 2
}
